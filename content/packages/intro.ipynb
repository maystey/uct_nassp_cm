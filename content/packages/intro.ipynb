{
 "cells": [
  {
   "cell_type": "markdown",
   "metadata": {},
   "source": [
    "# Python Modules and Packages"
   ]
  },
  {
   "cell_type": "markdown",
   "metadata": {},
   "source": [
    "So far we have only used functions and classes from the Python Standard Library (the default library available to any python script). Sometimes you need tools outside of this library that you don't have the time or expertize to write yourself. For this you can use a Python module.\n",
    "\n",
    "This section makes extensive use of the blog  ... cite real python, which goes in to more detail and includes how to create your own modules and packages."
   ]
  },
  {
   "cell_type": "markdown",
   "metadata": {},
   "source": [
    "## Namespaces <!--- Is this a good place to introduce these? -->\n",
    "\n",
    "Before we get talk about modules, we should briefly take a look at namespaces. ..."
   ]
  },
  {
   "cell_type": "markdown",
   "metadata": {},
   "source": [
    "## What is a module?\n",
    "A module is essentially a script that is made to be reused.\n",
    "\n",
    "\n",
    "Modular programming...\n",
    "\n",
    "<!--- Separate section for `import`? -->\n",
    "\n",
    "The way you access a module is by using the `import` statement:\n",
    "\n",
    "```python\n",
    "import module_name\n",
    "```\n",
    "\n",
    "Functions, objects and classes can be accessed from the module by using the following syntax:\n",
    "\n",
    "```\n",
    "module_name.function_name()\n",
    "module_name.object_name\n",
    "```\n",
    "\n",
    "here you are accessing these from a separate namespace called `module_name`.\n",
    "\n",
    "\n",
    "If you only want to import certain objects from a module, say \n",
    "\n",
    "Alias...\n",
    "\n",
    "If you wanted to import all of a modules functions into your script you can use a `*` after the module name:\n",
    "\n",
    "```python\n"
   ]
  },
  {
   "cell_type": "markdown",
   "metadata": {},
   "source": [
    "## What is a package?\n",
    "\n",
    "Essentially a package is an ordered collection of scripts. References to the "
   ]
  }
 ],
 "metadata": {
  "kernelspec": {
   "display_name": "Python 3",
   "language": "python",
   "name": "python3"
  },
  "language_info": {
   "codemirror_mode": {
    "name": "ipython",
    "version": 3
   },
   "file_extension": ".py",
   "mimetype": "text/x-python",
   "name": "python",
   "nbconvert_exporter": "python",
   "pygments_lexer": "ipython3",
   "version": "3.7.3"
  }
 },
 "nbformat": 4,
 "nbformat_minor": 4
}