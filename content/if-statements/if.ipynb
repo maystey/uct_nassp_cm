{
 "cells": [
  {
   "cell_type": "markdown",
   "metadata": {},
   "source": [
    "# If Statement\n",
    "\n",
    "<!--- Make a flow chart to illustrate the control flow!-->\n",
    "The `if` statement is used to execute a block of code if a condition is true. The syntax of an if statement is:\n",
    "```\n",
    "if condition:\n",
    "    block of code\n",
    "```\n",
    "where `condition` must be/evaluate to a boolean value. If `condition` evaluates to `True` then control moves to the block of code indented after the `:` and it is executed. <!--- Is this language correct?--> If `condition` evaluates to `False`, then the block of code is skipped and control moves on to the code after the `if` statement."
   ]
  },
  {
   "cell_type": "markdown",
   "metadata": {},
   "source": [
    "### Worked Example\n",
    "\n",
    "Let's consider the case where we want to check if one variable is greater than the other:"
   ]
  },
  {
   "cell_type": "code",
   "execution_count": 2,
   "metadata": {},
   "outputs": [
    {
     "name": "stdout",
     "output_type": "stream",
     "text": [
      "3 is greater than 2\n"
     ]
    }
   ],
   "source": [
    "a = 3\n",
    "b = 2\n",
    "\n",
    "if a > b:\n",
    "    print(a, 'is greater than', b)"
   ]
  },
  {
   "cell_type": "markdown",
   "metadata": {},
   "source": [
    "If we ran the code above but with\n",
    "```\n",
    "a = 2\n",
    "b = 2\n",
    "```\n",
    "then we would see nothing printed out."
   ]
  },
  {
   "cell_type": "markdown",
   "metadata": {},
   "source": [
    "## Else\n",
    "\n",
    "What if you wanted to execute a code block if a statement is true; and another if it's false. The `else` part of an if statement can be used for this:\n",
    "```\n",
    "if condition:\n",
    "    code block 1\n",
    "else:\n",
    "    code block 2\n",
    "```\n",
    "If `condition` evaluates to `True` then `code block 1` will be executed. If, on the other hand, `condition` evaluates to `False`, `code block 2` will be executed.\n",
    "\n",
    "![if else flow chart](if_else.png) <!--- Figure caption?-->"
   ]
  },
  {
   "cell_type": "markdown",
   "metadata": {},
   "source": [
    "### Worked Example\n",
    "\n",
    "Let's take our first example and add an `else` part to it:"
   ]
  },
  {
   "cell_type": "code",
   "execution_count": 3,
   "metadata": {},
   "outputs": [
    {
     "name": "stdout",
     "output_type": "stream",
     "text": [
      "3 is greater than 2\n"
     ]
    }
   ],
   "source": [
    "a = 3\n",
    "b = 2\n",
    "\n",
    "if a > b:\n",
    "    print(a, 'is greater than', b)\n",
    "else:\n",
    "    print(a, 'is less than or equal to', b)"
   ]
  },
  {
   "cell_type": "code",
   "execution_count": 4,
   "metadata": {},
   "outputs": [
    {
     "name": "stdout",
     "output_type": "stream",
     "text": [
      "1 is less than or equal to 2\n"
     ]
    }
   ],
   "source": [
    "a = 1\n",
    "b = 2\n",
    "\n",
    "if a > b:\n",
    "    print(a, 'is greater than', b)\n",
    "else:\n",
    "    print(a, 'is less than or equal to', b)"
   ]
  },
  {
   "cell_type": "markdown",
   "metadata": {},
   "source": [
    "## Elif\n",
    "\n",
    "Now, what if you have more than 2 mutually/partially exclusive conditions? This is a job for `elif` statements:\n",
    "\n",
    "```\n",
    "if condition_1:\n",
    "    code block 1\n",
    "elif condition_2:\n",
    "    code block 2\n",
    "elif condition_3:\n",
    "    code block 3\n",
    "```\n",
    "Here computer first checks `condition_1`. If `condition_1` evaluates `True` then `code block 1` is executed and control moves leaves the if statement. If `condition_1` evaluates as `False` then the computer will check `condition_2`, if this evaluates as `True` then `code block 2` will be executed and control will leave the if statement. If both `condition_1` and `condition_2` are both `False`, then the computer will check `condition_3`, if this evaluates to `True` `code block 3` will be executed and control will leave the if statement. \n",
    "\n",
    "See the flow chart in the **`else` and `elif`** section if this explanation was confusing.\n",
    "\n",
    "An alternative to using `elif` statements is nested `if`/`else` statements:\n",
    "\n",
    "```\n",
    "if condition_1:\n",
    "    code block 1\n",
    "else:\n",
    "    if condition_2:\n",
    "        code block 2\n",
    "    else:\n",
    "        if condition_3:\n",
    "            code block 3\n",
    "```\n",
    "This is quite messy. A general rule of thumb for Python is to avoid nesting where possible. There are certain scenarios where nested `if` statements are desired, however.\n",
    "\n",
    "Never use multiple `if` statements to do the job of `elif` statements:\n",
    "```\n",
    "if condition_1:\n",
    "    code block 1\n",
    "if (not condition_1) and condition_2:\n",
    "    code block 2\n",
    "if (not condition_1) and (not condition_2) and condition_3:\n",
    "    code block 3\n",
    "```\n",
    "this is not only annoying to write, it is computationally expensive. If one of these conditions is true, then the others aren't, but the computer will still check each condition in turn."
   ]
  },
  {
   "cell_type": "markdown",
   "metadata": {},
   "source": [
    "For example, lets write a script that checks if a variable is a multiple of 2, 3, or 5."
   ]
  },
  {
   "cell_type": "code",
   "execution_count": 4,
   "metadata": {},
   "outputs": [
    {
     "name": "stdout",
     "output_type": "stream",
     "text": [
      "Variable is a multiple of 2\n"
     ]
    }
   ],
   "source": [
    "var = 4\n",
    "\n",
    "if var % 2 == 0:\n",
    "    print('Variable is a multiple of 2')\n",
    "elif var % 3 == 0:\n",
    "    print('Variable is a multiple of 3')\n",
    "elif var % 5 == 0:\n",
    "    print('Variable is a multiple of 5')"
   ]
  },
  {
   "cell_type": "code",
   "execution_count": 6,
   "metadata": {},
   "outputs": [
    {
     "name": "stdout",
     "output_type": "stream",
     "text": [
      "Variable is a multiple of 3\n"
     ]
    }
   ],
   "source": [
    "var = 21\n",
    "\n",
    "if var % 2 == 0:\n",
    "    print('Variable is a multiple of 2')\n",
    "elif var % 3 == 0:\n",
    "    print('Variable is a multiple of 3')\n",
    "elif var % 5 == 0:\n",
    "    print('Variable is a multiple of 5')"
   ]
  },
  {
   "cell_type": "code",
   "execution_count": 7,
   "metadata": {},
   "outputs": [
    {
     "name": "stdout",
     "output_type": "stream",
     "text": [
      "Variable is a multiple of 5\n"
     ]
    }
   ],
   "source": [
    "var = 25\n",
    "\n",
    "if var % 2 == 0:\n",
    "    print('Variable is a multiple of 2')\n",
    "elif var % 3 == 0:\n",
    "    print('Variable is a multiple of 3')\n",
    "elif var % 5 == 0:\n",
    "    print('Variable is a multiple of 5')"
   ]
  },
  {
   "cell_type": "code",
   "execution_count": 8,
   "metadata": {},
   "outputs": [
    {
     "name": "stdout",
     "output_type": "stream",
     "text": [
      "Variable is a multiple of 2\n"
     ]
    }
   ],
   "source": [
    "var = 6\n",
    "\n",
    "if var % 2 == 0:\n",
    "    print('Variable is a multiple of 2')\n",
    "elif var % 3 == 0:\n",
    "    print('Variable is a multiple of 3')\n",
    "elif var % 5 == 0:\n",
    "    print('Variable is a multiple of 5')"
   ]
  },
  {
   "cell_type": "markdown",
   "metadata": {},
   "source": [
    "Note that even though 6 is a multiple of both 2 and 3, because 2 appears above 3 in the `if` statement that's the message we see."
   ]
  },
  {
   "cell_type": "code",
   "execution_count": 9,
   "metadata": {},
   "outputs": [],
   "source": [
    "var = 7\n",
    "\n",
    "if var % 2 == 0:\n",
    "    print('Variable is a multiple of 2')\n",
    "elif var % 3 == 0:\n",
    "    print('Variable is a multiple of 3')\n",
    "elif var % 5 == 0:\n",
    "    print('Variable is a multiple of 5')"
   ]
  },
  {
   "cell_type": "markdown",
   "metadata": {},
   "source": [
    "Note that 7 is not a multiple 2, 3 or 5 and thus all of the `if` and `elif` conditions are false."
   ]
  },
  {
   "cell_type": "markdown",
   "metadata": {},
   "source": [
    "### Else and Elif\n",
    "\n",
    "If you include an `else` part of an `if` statement with `elif` parts, the code block in the `else` statement only executes if all of the conditions in the `if` and `elif` statements that precede it are false.\n",
    "\n",
    "![if elif else flow chart](if_elif_else.png)\n",
    "\n",
    "As an example of this let's go back to our original example:"
   ]
  },
  {
   "cell_type": "code",
   "execution_count": 1,
   "metadata": {},
   "outputs": [
    {
     "name": "stdout",
     "output_type": "stream",
     "text": [
      "3 is greater than 2\n"
     ]
    }
   ],
   "source": [
    "a = 3\n",
    "b = 2\n",
    "\n",
    "if a > b:\n",
    "    print(a, 'is greater than', b)\n",
    "elif a < b:\n",
    "    print(a, 'is less than', b)\n",
    "else:\n",
    "    print(a, 'is equal to', b)"
   ]
  },
  {
   "cell_type": "code",
   "execution_count": 2,
   "metadata": {},
   "outputs": [
    {
     "name": "stdout",
     "output_type": "stream",
     "text": [
      "1 is less than 2\n"
     ]
    }
   ],
   "source": [
    "a = 1\n",
    "b = 2\n",
    "\n",
    "if a > b:\n",
    "    print(a, 'is greater than', b)\n",
    "elif a < b:\n",
    "    print(a, 'is less than', b)\n",
    "else:\n",
    "    print(a, 'is equal to', b)"
   ]
  },
  {
   "cell_type": "code",
   "execution_count": 3,
   "metadata": {},
   "outputs": [
    {
     "name": "stdout",
     "output_type": "stream",
     "text": [
      "2 is equal to 2\n"
     ]
    }
   ],
   "source": [
    "a = 2\n",
    "b = 2\n",
    "\n",
    "if a > b:\n",
    "    print(a, 'is greater than', b)\n",
    "elif a < b:\n",
    "    print(a, 'is less than', b)\n",
    "else:\n",
    "    print(a, 'is equal to', b)"
   ]
  },
  {
   "cell_type": "code",
   "execution_count": null,
   "metadata": {},
   "outputs": [],
   "source": []
  }
 ],
 "metadata": {
  "kernelspec": {
   "display_name": "Python 3",
   "language": "python",
   "name": "python3"
  },
  "language_info": {
   "codemirror_mode": {
    "name": "ipython",
    "version": 3
   },
   "file_extension": ".py",
   "mimetype": "text/x-python",
   "name": "python",
   "nbconvert_exporter": "python",
   "pygments_lexer": "ipython3",
   "version": "3.7.3"
  }
 },
 "nbformat": 4,
 "nbformat_minor": 4
}
