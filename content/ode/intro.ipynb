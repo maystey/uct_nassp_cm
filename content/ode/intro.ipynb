{
 "cells": [
  {
   "cell_type": "markdown",
   "metadata": {},
   "source": [
    "# Numerical Solutions to Ordinary Differential Equations"
   ]
  },
  {
   "cell_type": "markdown",
   "metadata": {},
   "source": [
    "In many cases you will come across ordinary differential equations (ODEs) with no analytic solution. In this chapter we will explore numerical methods that we can use to solve ODEs that can be expressed in the form:\n",
    "\n",
    "$$\n",
    "\\frac{dy}{dx} = f(x, y)\n",
    "$$\n",
    "\n",
    "with a given initial value for $y(x_0)$.\n",
    "\n",
    "We shall also look at ODEs of higher order:\n",
    "\n",
    "$$\n",
    "\\frac{d^n y}{dx^n} = f\\left(x, y, \\frac{dy}{dx}, \\frac{d^2 y}{dx^2}, \\dots, \\frac{d^{n-1}y}{dx^{n-1}}\\right)\n",
    "$$\n",
    "\n",
    "with given initial conditions for $y(x_0)$, $\\tfrac{d}{dx}y(x_0)$, $\\tfrac{d^2}{dx^2}y(x_0)$, $\\tfrac{d^3}{dx^3}y(x_0)$, $\\dots$, $\\tfrac{d^{n-1}}{dx^{n-1}}y(x_0)$.\n",
    "\n",
    "These are called initial value problems. To solve them you to set as many initial conditions as the order of the equation."
   ]
  }
 ],
 "metadata": {
  "kernelspec": {
   "display_name": "Python 3.7.3 64-bit ('base': conda)",
   "language": "python",
   "name": "python37364bitbaseconda97808f46a65a4f1e9dfdbcff18a07fbf"
  },
  "language_info": {
   "codemirror_mode": {
    "name": "ipython",
    "version": 3
   },
   "file_extension": ".py",
   "mimetype": "text/x-python",
   "name": "python",
   "nbconvert_exporter": "python",
   "pygments_lexer": "ipython3",
   "version": "3.7.3"
  }
 },
 "nbformat": 4,
 "nbformat_minor": 4
}
