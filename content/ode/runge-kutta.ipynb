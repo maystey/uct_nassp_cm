{
 "cells": [
  {
   "cell_type": "markdown",
   "metadata": {},
   "source": [
    "# Runge-Kutta Methods"
   ]
  },
  {
   "cell_type": "markdown",
   "metadata": {},
   "source": [
    "The aforementioned Euler's method is the simplest single step ODE solving method, but has a fairly large error. The Runge-Kutta methods are more popular due to their improved accuracy, in particular 4th and 5th order methods."
   ]
  },
  {
   "cell_type": "markdown",
   "metadata": {},
   "source": [
    "## Outline of the Derivation"
   ]
  },
  {
   "cell_type": "markdown",
   "metadata": {},
   "source": [
    "The idea behind Runge-Kutta is to perform integration steps using a weighted average of Euler-like steps. The following outline {% cite efferson-numerical-methods %} is not a full derivation of the method, as this requires theorems outside the scope of this course."
   ]
  },
  {
   "cell_type": "markdown",
   "metadata": {},
   "source": [
    "### Second Order Runge-Kutta"
   ]
  },
  {
   "cell_type": "markdown",
   "metadata": {},
   "source": [
    "We shall start by looking at second order Runge-Kutta methods. We want to solve an ODE of the form\n",
    "\n",
    "$$\n",
    "\\frac{dy}{dx} = f(x, y)\n",
    "$$\n",
    "\n",
    "on the interval $[x_i, x_{i+1}]$, where $x_{i+1} = x_i + h$, with a given initial condition $y(x = x_i) = y_i$. That is we wish to determine the value of $y(x_{i+1}) = y_{i+1}$. We start by calculating the gradient of $y$ at 2 places:\n",
    "\n",
    "- The start of the interval: $(x_i, y_i)$\n",
    "- A point inside the interval, for which we approximate the $y$ value using Euler's method: $(x_i + \\alpha h, y_i + \\alpha h f(x_i, y_i))$, for some choice of $\\alpha$.\n",
    "\n",
    "<!--- Not necessarily inside the interval though... --->\n",
    "We then approximate the value of $y_{i+1}$ using Euler's method with each of these gradients:\n",
    "\n",
    "- $y_{i+1} \\approx y_i + h f(x_i, y_i)$\n",
    "- $y_{i+1} \\approx y_i + h f(x_i + \\alpha h, y_i + \\alpha h f(x_i, y_i))$\n",
    "\n",
    "The final approximation of $y_{i+1}$ is calculated by taking a weighted average of these two approximations:\n",
    "\n",
    "$$\n",
    "y_{i+1} \\approx y_i + c_1 h f(x_i, y_i) + c_2 h f(x_i + \\alpha h, y_i + \\alpha h f(x_i, y_i) )\n",
    "$$\n",
    "\n",
    "where $c_1 + c_2 = 1$ is required."
   ]
  },
  {
   "cell_type": "code",
   "execution_count": 24,
   "metadata": {
    "tags": [
     "remove_input"
    ]
   },
   "outputs": [
    {
     "data": {
      "image/png": "[encoded data removed]",
      "text/plain": [
       "<Figure size 504x360 with 1 Axes>"
      ]
     },
     "metadata": {
      "needs_background": "light"
     },
     "output_type": "display_data"
    }
   ],
   "source": [
    "import numpy as np\n",
    "import matplotlib.pyplot as plt\n",
    "\n",
    "##Functions\n",
    "def fprime(a, x, y):\n",
    "    return 3*a[0]*x*x + 2*a[1]*x + a[2]\n",
    "\n",
    "def f(a,x):\n",
    "    return a[0]*x*x*x + a[1]*x*x + a[2]*x + a[3]\n",
    "\n",
    "def sp_to_cubic(sp_xy):\n",
    "    X = np.zeros((4,4))\n",
    "    Y = np.zeros((4,1))\n",
    "    \n",
    "    X[::2,0] = 3*sp_xy[:,0]**2\n",
    "    X[::2,1] = 2*sp_xy[:,0]\n",
    "    X[::2,2] = 1\n",
    "    \n",
    "    X[1::2,0] = sp_xy[:,0]**3\n",
    "    X[1::2,1] = sp_xy[:,0]**2\n",
    "    X[1::2,2] = sp_xy[:,0]\n",
    "    X[1::2,3] = 1\n",
    "    \n",
    "    Y[1::2,0] = sp_xy[:,1]\n",
    "    \n",
    "    X = np.matrix(X)\n",
    "    Y = np.matrix(Y)\n",
    "    return np.array(X.I*Y).flatten()\n",
    "\n",
    "def rk2_single(f, y0, x0, h, c1):\n",
    "    c2 = 1- c1\n",
    "    ah = h*0.5/c2\n",
    "    \n",
    "    x_rk = [x0, x0+h]\n",
    "    x_between = x0 + ah\n",
    "    y_between = y0 + ah*f(x0, y0) #don't actually need this\n",
    "    \n",
    "    m_euler = f(x0, y0)\n",
    "    m_between = f(x_between, y_between)\n",
    "    \n",
    "    y_euler = y0 + h*m_euler\n",
    "    y_between_end = y0 + h*m_between\n",
    "    \n",
    "    y_rk = [y0, y0 + h*c1*m_euler + h*c2*m_between]\n",
    "    \n",
    "    return x_rk, y_rk, m_euler, m_between, x_between, y_between, y_euler, y_between_end\n",
    "    \n",
    "\n",
    "def rk2(f,y0, xlims, h, c1): #symbolic_ticks = true\n",
    "    c2 = 1- c1\n",
    "    ah = h*0.5/c2\n",
    "    \n",
    "    x_rk = np.arange(xlims[0], xlims[1] + h, h)\n",
    "    y_rk = np.zeros(x_rk.size)\n",
    "    y_rk[0] = y0\n",
    "    \n",
    "    x_between = x_rk[:-1] + ah\n",
    "    y_between = np.zeros(x_between.size)\n",
    "#    y_euler = np.zeros(x_between.size)\n",
    "    \n",
    "#    m_between = np.zeros(x_between.size)\n",
    "#    m_euler = np.zeros(y_euler.size)\n",
    "#    \n",
    "    x_ticks = [r'$x_0$']\n",
    "    y_ticks = [r'$y_0$']\n",
    "    x_between_ticks = [r'$x_0 + \\alpha h$']\n",
    "    y_between_ticks = [r'$y_0 + \\alpha h f(x_0, y_0)$']\n",
    "    for i in range(x_rk.size-1):\n",
    "        #RK2\n",
    "#        m_between[i] = ah*f(x_rk[i], y_rk[i]\n",
    "        y_between[i] = y_rk[i] + ah*f(x_rk[i], y_rk[i])\n",
    "        y_rk[i+1] = y_rk[i] + h*(c1*f(x_rk[i], y_rk[i]) + \n",
    "                                c2*f(x_between[i], y_between[i]))\n",
    "        \n",
    "        #ticks\n",
    "        x_ticks.append(r'$x_{{}}$'.format(i+1))\n",
    "        y_ticks.append(r'$y_{{}}$'.format(i+1))\n",
    "        \n",
    "        x_between_ticks.append(r'$x_{{}} + \\alpha h$'.format(i))\n",
    "        y_between_ticks.append(r'$y_{{}} + \\alpha h f(x_{{}}, y_{{}})$'.format(i))\n",
    "        \n",
    "    return x_rk, y_rk, x_between, y_between, [x_ticks, y_ticks, x_between_ticks,\n",
    "                                              y_between_ticks]\n",
    "\n",
    "##plotting\n",
    "#params\n",
    "legend_fontsize = 12\n",
    "tick_fontsize = 14\n",
    "linewidth = 2\n",
    "\n",
    "#xlims = [0, 1]\n",
    "x0 = 0\n",
    "h = 0.5\n",
    "c1 = 0.3\n",
    "\n",
    "a = sp_to_cubic(np.array([[0.5, 2], [1.5, -1]]))\n",
    "\n",
    "N = 100\n",
    "\n",
    "arrow_dx = 0.1\n",
    "#set-up\n",
    "ff = lambda x,y: fprime(a, x, y)\n",
    "\n",
    "x = np.linspace(x0, x0+h, N)\n",
    "y = f(a, x)\n",
    "\n",
    "x_rk, y_rk, m_euler, m_between, x_between, y_between, y_euler_end, y_between_end = rk2_single(ff, y[0], x0, h, c1)\n",
    "\n",
    "#plotting:\n",
    "fig, ax = plt.subplots(figsize = (7, 5))\n",
    "\n",
    "ax.plot(x, y, ls = ':', color = 'black', linewidth = linewidth, label = 'Exact Solution')\n",
    "ax.plot(x_rk, y_rk, color = 'black', linewidth = linewidth, \n",
    "         label = 'Runge-Kutta Solution')\n",
    "ax.plot(x_rk, [y_rk[0], y_euler_end], color = 'blue', linewidth = linewidth, \n",
    "         label = 'Euler Solution')\n",
    "ax.plot(x_rk, [y_rk[0], y_between_end], color = 'red', linewidth = linewidth,\n",
    "         label = r'Solution using')\n",
    "ax.plot([], [], ls = 'none', label = r'Gradient at $x_i + \\alpha$')\n",
    "\n",
    "\n",
    "arrow_width = 0.01*linewidth\n",
    "\n",
    "#ax.arrow(x_between, f(a, x_between), arrow_dx, arrow_dx*m_between, color = 'red',\n",
    "#          width = arrow_width, head_width = 0.05, head_length = 0.05)\n",
    "ax.plot(x_between, f(a, x_between), 'ro')\n",
    "\n",
    "ax.annotate(\"\", xy=(x_between + arrow_dx, f(a, x_between) + arrow_dx*m_between), \n",
    "            xytext=(x_between, f(a, x_between)), \n",
    "            arrowprops=dict(arrowstyle=\"->\"))\n",
    "\n",
    "ax.plot(x0,f(a, x0), 'bo')\n",
    "\n",
    "ax.annotate(\"\", xy=(x0 + arrow_dx, f(a, x0) + arrow_dx*m_euler), \n",
    "            xytext=(x0, f(a, x0)), \n",
    "            arrowprops=dict(arrowstyle=\"->\"))\n",
    "\n",
    "\n",
    "ax.set_xticks([x_rk[0], x_between, x_rk[1]])\n",
    "ax.set_xticklabels([r'$x_i$', r'$x_i + \\alpha$', r'$x_{i+1}$'], fontsize = tick_fontsize)\n",
    "ax.set_yticks([])\n",
    "ax.legend(fontsize = legend_fontsize)\n",
    "\n",
    "plt.show()"
   ]
  },
  {
   "cell_type": "markdown",
   "metadata": {},
   "source": [
    "Now, how do we go about choosing good values for $c_1$, $c_2$ and $\\alpha$? If we Taylor expand the left-hand side of the equation above, and the last term on the right-hand side gives us the relation:\n",
    "\n",
    "$$\n",
    "\\alpha = \\frac{1}{2 c_2}\n",
    "$$\n",
    "\n",
    "This still gives us a free choice of one of the parameters. Two popular choices are:\n",
    "\n",
    "**The trapezoid rule:** $c1 = c2 = \\tfrac{1}{2}$ and $\\alpha = 1$, which yields:\n",
    "\n",
    "$$\n",
    "y_{i+1} = y_i + \\tfrac{1}{2} h \\left[ f(x_i, y_i) + f(x_i + h, y_i + h f(x_i, y_i)) \\right]\n",
    "$$\n",
    "\n",
    "**The midpoint rule:** $c1 = 0$, $c2 = 1$ and $\\alpha = \\tfrac{1}{2}$, which yields:\n",
    "\n",
    "$$\n",
    "y_{i+1} = y_i + hf\\left(x_i + \\tfrac{1}{2} h, y_i + \\tfrac{1}{2} h f(x_i, y_i) \\right)\n",
    "$$\n",
    "\n",
    "Both of these methods have an accumulated error of $\\mathcal(h^2)$, as opposed to Euler's method with $\\mathcal(h)$"
   ]
  },
  {
   "cell_type": "markdown",
   "metadata": {},
   "source": [
    "## Fourth Order Runge-Kutta (RK4)"
   ]
  },
  {
   "cell_type": "markdown",
   "metadata": {},
   "source": [
    "As mentioned, the more popular Runge-Kutta method is the fourth order (for which we will not cover the derivation):\n",
    "\n",
    "$$\n",
    "y_{i+1} = y_i + \\tfrac{h}{6} (k_1 + 2 k_2 + 2 k_3 + k_4)\n",
    "$$\n",
    "\n",
    "where the $k$ values are the slopes:\n",
    "\n",
    "$$\n",
    "\\begin{align*}\n",
    "k_1 &= f(x_i, y_i)\\\\\n",
    "k_2 &= f\\left(x_i + \\tfrac{1}{2}h, y_i + \\tfrac{1}{2}\\right)\\\\\n",
    "k_3 &= f\\left(x_i + \\tfrac{2}{2}h, y_i + \\tfrac{1}{2}\\right)\\\\\n",
    "k_4 &= f(x_i + h, y_i + k_3)\n",
    "\\end{align*}\n",
    "$$\n",
    "\n",
    "This method has an accumulated error of $\\mathcal(h^4)$"
   ]
  },
  {
   "cell_type": "markdown",
   "metadata": {},
   "source": [
    "### Worked Example"
   ]
  },
  {
   "cell_type": "markdown",
   "metadata": {},
   "source": [
    "### High Order ODEs"
   ]
  },
  {
   "cell_type": "code",
   "execution_count": null,
   "metadata": {},
   "outputs": [],
   "source": []
  }
 ],
 "metadata": {
  "kernelspec": {
   "display_name": "Python 3.7.3 64-bit ('base': conda)",
   "language": "python",
   "name": "python37364bitbaseconda97808f46a65a4f1e9dfdbcff18a07fbf"
  },
  "language_info": {
   "codemirror_mode": {
    "name": "ipython",
    "version": 3
   },
   "file_extension": ".py",
   "mimetype": "text/x-python",
   "name": "python",
   "nbconvert_exporter": "python",
   "pygments_lexer": "ipython3",
   "version": "3.7.3"
  }
 },
 "nbformat": 4,
 "nbformat_minor": 4
}
