{
 "cells": [
  {
   "cell_type": "code",
   "execution_count": 1,
   "metadata": {
    "tags": [
     "remove_cell"
    ]
   },
   "outputs": [],
   "source": [
    "import numpy as np"
   ]
  },
  {
   "cell_type": "markdown",
   "metadata": {},
   "source": [
    "# Array Methods and Attributes\n",
    "\n",
    "In this section we will look at some methods and attributes that arrays have. This is not a complete list, but rather highlighting things you may find useful.\n",
    "\n",
    "Let's start off by creating a fairly large array, for example a collection of human height measurements:"
   ]
  },
  {
   "cell_type": "code",
   "execution_count": 2,
   "metadata": {},
   "outputs": [],
   "source": [
    "heights = np.array(\n",
    "      [ 2.13159377,  1.8864508 ,  1.63504183,  1.71173878,  1.78826872,\n",
    "        1.60621813,  1.74630706,  2.11123384,  1.54212979,  1.39184441,\n",
    "        1.7919224 ,  1.80299245,  1.73770464,  1.95233673,  1.47179093,\n",
    "        1.70506609,  1.41194434,  2.05643464,  1.8262583 ,  1.47764985,\n",
    "        1.61362183,  1.65600316,  1.42078883,  1.78059602,  1.80600655,\n",
    "        1.91634004,  1.82746488,  1.82688072,  1.82053352,  1.84882458,\n",
    "        1.80672297,  1.4646136 ,  1.71033286,  1.83272236,  1.97074545,\n",
    "        1.96265325,  1.39817665,  1.55933323,  1.59111903,  1.53108805,\n",
    "        1.33635392,  1.74971951,  1.56885338,  1.6614742 ,  1.70868504,\n",
    "        1.58476337,  1.69233894,  1.73520641,  1.71248418,  1.75484377])"
   ]
  },
  {
   "cell_type": "markdown",
   "metadata": {},
   "source": [
    "To get the number of elements in an array, we can use the `size` attribute:"
   ]
  },
  {
   "cell_type": "code",
   "execution_count": 12,
   "metadata": {},
   "outputs": [
    {
     "name": "stdout",
     "output_type": "stream",
     "text": [
      "The size of the heights array: 50\n"
     ]
    }
   ],
   "source": [
    "print('The size of the heights array:', heights.size)"
   ]
  },
  {
   "cell_type": "markdown",
   "metadata": {},
   "source": [
    "For 1 dimensional arrays this is gives us the same value as using `len()`, but for multidimensional arrays, `len()` will not return the total number of elements."
   ]
  },
  {
   "cell_type": "markdown",
   "metadata": {},
   "source": [
    "## Minimum and Maximum Values\n",
    "\n",
    "You can use the `min()` and `max()` methods to get the minimum and maximum values of an array respectively."
   ]
  },
  {
   "cell_type": "code",
   "execution_count": 13,
   "metadata": {},
   "outputs": [
    {
     "name": "stdout",
     "output_type": "stream",
     "text": [
      "Minimum height: 1.33635392\n",
      "Maximum height 2.13159377\n"
     ]
    }
   ],
   "source": [
    "print('Minimum height:', heights.min())\n",
    "print('Maximum height', heights.max())"
   ]
  },
  {
   "cell_type": "markdown",
   "metadata": {},
   "source": [
    "Again, this gives you similar results to the functions in the Standard Library, but is the only option for arrays of higher dimensions."
   ]
  },
  {
   "cell_type": "markdown",
   "metadata": {},
   "source": [
    "## Statistical Functions"
   ]
  },
  {
   "cell_type": "markdown",
   "metadata": {},
   "source": [
    "NumPy provides us with some basic statistical functions out of the box. For example the `mean()` (arithmetic mean or average) and `std()` (standard deviation)."
   ]
  },
  {
   "cell_type": "code",
   "execution_count": 9,
   "metadata": {},
   "outputs": [
    {
     "name": "stdout",
     "output_type": "stream",
     "text": [
      "Average height:  1.712684356\n",
      "Standard deviation of heights:  0.18476698650385862\n"
     ]
    }
   ],
   "source": [
    "print('Average height: ', heights.mean())\n",
    "print('Standard deviation of heights: ', heights.std())"
   ]
  },
  {
   "cell_type": "code",
   "execution_count": 8,
   "metadata": {},
   "outputs": [
    {
     "name": "stdout",
     "output_type": "stream",
     "text": [
      "Average height: 1.712684356\n",
      "Standard deviation of heights: 0.18476698650385862\n",
      "Maximum height: 2.13159377\n",
      "Mimimum height: 1.33635392\n"
     ]
    }
   ],
   "source": [
    "print('Average height:', np.mean(heights))\n",
    "print('Standard deviation of heights:', np.std(heights))\n",
    "print('Maximum height:', np.max(heights))\n",
    "print('Mimimum height:', np.min(heights))"
   ]
  }
 ],
 "metadata": {
  "kernelspec": {
   "display_name": "Python 3",
   "language": "python",
   "name": "python3"
  },
  "language_info": {
   "codemirror_mode": {
    "name": "ipython",
    "version": 3
   },
   "file_extension": ".py",
   "mimetype": "text/x-python",
   "name": "python",
   "nbconvert_exporter": "python",
   "pygments_lexer": "ipython3",
   "version": "3.7.3"
  }
 },
 "nbformat": 4,
 "nbformat_minor": 4
}
