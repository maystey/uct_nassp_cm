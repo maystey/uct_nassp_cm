{
 "cells": [
  {
   "cell_type": "markdown",
   "metadata": {},
   "source": [
    "# Introduction to Using Functions\n",
    "In this section we shall discuss some of the details on how to use functions from the Standard Library. We have already come across a few functions, namely `print()` and `type()`. We shall cover how to define your own functions in a later section.\n",
    "\n",
    "Python functions essentially take variables or values/objects as arguments, perform a task and them return values/objects. As we have seen before the syntax of a function call is:\n",
    "```\n",
    "function_name(argument, argument, ...)\n",
    "```\n",
    "\n",
    "Note that some functions return a `None` type when a return value isn't necessary. For example, the `print()` function:"
   ]
  },
  {
   "cell_type": "code",
   "execution_count": 4,
   "metadata": {},
   "outputs": [
    {
     "name": "stdout",
     "output_type": "stream",
     "text": [
      "print out\n",
      "print function return: None\n"
     ]
    }
   ],
   "source": [
    "print_return = print('print out')\n",
    "\n",
    "print('print function return:', print_return)"
   ]
  },
  {
   "cell_type": "markdown",
   "metadata": {},
   "source": [
    "If you want to know what a particular function does or how to use it, a quick way to find out is to pull up the docstring. In an IPython environment (such as a Jupyter notebook) this can be done by typing a `?` symbol after the function name and pressing enter. For example:"
   ]
  },
  {
   "cell_type": "code",
   "execution_count": 5,
   "metadata": {},
   "outputs": [
    {
     "data": {
      "text/plain": [
       "\u001b[0;31mDocstring:\u001b[0m\n",
       "print(value, ..., sep=' ', end='\\n', file=sys.stdout, flush=False)\n",
       "\n",
       "Prints the values to a stream, or to sys.stdout by default.\n",
       "Optional keyword arguments:\n",
       "file:  a file-like object (stream); defaults to the current sys.stdout.\n",
       "sep:   string inserted between values, default a space.\n",
       "end:   string appended after the last value, default a newline.\n",
       "flush: whether to forcibly flush the stream.\n",
       "\u001b[0;31mType:\u001b[0m      builtin_function_or_method\n"
      ]
     },
     "metadata": {},
     "output_type": "display_data"
    }
   ],
   "source": [
    "print?"
   ]
  },
  {
   "cell_type": "markdown",
   "metadata": {},
   "source": [
    "In a default Python shell or script you can print out the docstring using the `help()` function. For example:"
   ]
  },
  {
   "cell_type": "code",
   "execution_count": 8,
   "metadata": {},
   "outputs": [
    {
     "name": "stdout",
     "output_type": "stream",
     "text": [
      "Help on built-in function print in module builtins:\n",
      "\n",
      "print(...)\n",
      "    print(value, ..., sep=' ', end='\\n', file=sys.stdout, flush=False)\n",
      "    \n",
      "    Prints the values to a stream, or to sys.stdout by default.\n",
      "    Optional keyword arguments:\n",
      "    file:  a file-like object (stream); defaults to the current sys.stdout.\n",
      "    sep:   string inserted between values, default a space.\n",
      "    end:   string appended after the last value, default a newline.\n",
      "    flush: whether to forcibly flush the stream.\n",
      "\n"
     ]
    }
   ],
   "source": [
    "help(print)"
   ]
  },
  {
   "cell_type": "markdown",
   "metadata": {
    "comments": [
     {
      "body": [
       {
        "created": "2019-12-04T07:30:54.446Z",
        "creator": {
         "image": "https://avatars0.githubusercontent.com/u/52176275?v=4",
         "name": "Mayhew Steyn",
         "user": "maystey"
        },
        "edited": false,
        "value": "It would be a good idea to annotate the docstring for this discussion. Probably only possible with an image file."
       }
      ],
      "id": "anno/0",
      "resolved": false,
      "total": 1
     },
     {
      "body": [
       {
        "created": "2019-12-04T07:54:24.545Z",
        "creator": {
         "image": "https://avatars0.githubusercontent.com/u/52176275?v=4",
         "name": "Mayhew Steyn",
         "user": "maystey"
        },
        "edited": false,
        "value": "Need to put a link to the Matplotlib chapter here."
       }
      ],
      "id": "anno/1",
      "resolved": false,
      "total": 1
     },
     {
      "body": [
       {
        "created": "2019-12-04T07:58:48.190Z",
        "creator": {
         "image": "https://avatars0.githubusercontent.com/u/52176275?v=4",
         "name": "Mayhew Steyn",
         "user": "maystey"
        },
        "edited": false,
        "value": "Show that print can take multiple arguments here? Or earlier?"
       }
      ],
      "id": "anno/2",
      "resolved": false,
      "total": 1
     }
    ]
   },
   "source": [
    "Alternatively you can refer to the [Python documentation](https://docs.python.org/3/).\n",
    "\n",
    "Now, let's take a look at the `print()` docstring itself. The first line of the docstring shows us the function name; and the name of the function arguments and their default values (if they have). Following this is a description of what the function does. Following this is a list of optional keyword arguments.\n",
    "\n",
    "Sometimes a docstring will also contain examples on how to use the function, though none are present in this one.\n",
    "\n",
    "We will see more examples of how optional keyword arguments work (in particular in the Chapter discussing Matplotlib...), for now let's use one of them. Let's change the argument `sep`, which is the string inserted between the values you put into the `print()` function. As we can see, it's default value is a space `' '`. As a first example, let's change the separation to an empty string (no space):"
   ]
  },
  {
   "cell_type": "code",
   "execution_count": 1,
   "metadata": {},
   "outputs": [
    {
     "name": "stdout",
     "output_type": "stream",
     "text": [
      "Therearenospaces\n"
     ]
    }
   ],
   "source": [
    "print('There', 'are', 'no', 'spaces', sep = '')"
   ]
  },
  {
   "cell_type": "markdown",
   "metadata": {},
   "source": [
    "As another example, let's put commas (`','`) in between the values:"
   ]
  },
  {
   "cell_type": "code",
   "execution_count": 2,
   "metadata": {},
   "outputs": [
    {
     "name": "stdout",
     "output_type": "stream",
     "text": [
      "There,are,commas,between,values\n"
     ]
    }
   ],
   "source": [
    "print('There', 'are', 'commas', 'between', 'values', sep = ',')"
   ]
  },
  {
   "cell_type": "markdown",
   "metadata": {},
   "source": [
    "## The `input()` Function\n"
   ]
  },
  {
   "cell_type": "markdown",
   "metadata": {},
   "source": [
    "Another important function in the Python Standard Library is the `input()` function. This function allows us to collect user inputs from the terminal.\n",
    "\n",
    "`input()` takes a string as an argument, this gets printed to the terminal and the script is halted until the user has entered a string and pressed enter. This string that the user has entered is returned by the `input()` function; and can, therefore, be used in the rest of the script.\n",
    "\n",
    "As a first example, consider the following code that asks the user for their name:"
   ]
  },
  {
   "cell_type": "code",
   "execution_count": 5,
   "metadata": {},
   "outputs": [
    {
     "name": "stdin",
     "output_type": "stream",
     "text": [
      "What is your name? Mayhew\n"
     ]
    },
    {
     "name": "stdout",
     "output_type": "stream",
     "text": [
      "Hello Mayhew , nice to meet you!\n"
     ]
    }
   ],
   "source": [
    "user_name = input('What is your name?')\n",
    "\n",
    "print('Hello', user_name, ', nice to meet you!')"
   ]
  },
  {
   "cell_type": "markdown",
   "metadata": {},
   "source": [
    "Remember that the program will wait for your input before it continues. If you are using a Jupyter Notebook, this means that other cells from the notebook will not run until the code has been fully executed or terminated.\n",
    "\n",
    "Now, something that is important to note is that the return value from input is a string, even when a number is typed into the terminal:"
   ]
  },
  {
   "cell_type": "code",
   "execution_count": 7,
   "metadata": {},
   "outputs": [
    {
     "name": "stdin",
     "output_type": "stream",
     "text": [
      "Enter a number:  12\n"
     ]
    },
    {
     "name": "stdout",
     "output_type": "stream",
     "text": [
      "12 <class 'str'>\n"
     ]
    }
   ],
   "source": [
    "user_number = input('Enter a number: ')\n",
    "\n",
    "print(user_number, type(user_number))"
   ]
  },
  {
   "cell_type": "markdown",
   "metadata": {},
   "source": [
    "If you intend for the input to be used as a number, you must remember to convert it to one (an `int` or `float`):"
   ]
  },
  {
   "cell_type": "code",
   "execution_count": 9,
   "metadata": {},
   "outputs": [
    {
     "name": "stdin",
     "output_type": "stream",
     "text": [
      "Enter an integer:  6\n"
     ]
    },
    {
     "name": "stdout",
     "output_type": "stream",
     "text": [
      "Entered: 6 <class 'int'>\n"
     ]
    },
    {
     "name": "stdin",
     "output_type": "stream",
     "text": [
      "Enter a number:  57.5\n"
     ]
    },
    {
     "name": "stdout",
     "output_type": "stream",
     "text": [
      "Entered: 57.5 <class 'float'>\n"
     ]
    }
   ],
   "source": [
    "user_int = int(input('Enter an integer: '))\n",
    "\n",
    "print('Entered:', user_int, type(user_int))\n",
    "\n",
    "user_float = float(input('Enter a number: '))\n",
    "\n",
    "print('Entered:', user_float, type(user_float))"
   ]
  }
 ],
 "metadata": {
  "kernelspec": {
   "display_name": "Python 3",
   "language": "python",
   "name": "python3"
  },
  "language_info": {
   "codemirror_mode": {
    "name": "ipython",
    "version": 3
   },
   "file_extension": ".py",
   "mimetype": "text/x-python",
   "name": "python",
   "nbconvert_exporter": "python",
   "pygments_lexer": "ipython3",
   "version": "3.7.3"
  }
 },
 "nbformat": 4,
 "nbformat_minor": 4
}
