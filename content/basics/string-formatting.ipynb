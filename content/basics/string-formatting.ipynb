{
 "cells": [
  {
   "cell_type": "markdown",
   "metadata": {},
   "source": [
    "# String Formatting\n",
    "\n",
    "Concatenating strings can sometimes be cumbersome and hard to automate. If you need to include variables and/or values in your string, you may be better off using string formatting. We will use this technique more extensively later on.\n",
    "\n",
    "There are a few ways to format strings. We will cover one of the ways introduced in Python 3. That is using the `string.format()` method.\n",
    "\n",
    "This method treats everything contained in curly braces`{}` in the string as a replacement field, everything in and including the braces are replaced with the arguments of format in the output string."
   ]
  },
  {
   "cell_type": "code",
   "execution_count": 1,
   "metadata": {},
   "outputs": [
    {
     "name": "stdout",
     "output_type": "stream",
     "text": [
      "Hello world, how are you?\n"
     ]
    }
   ],
   "source": [
    "print('Hello {}, how are you?'.format('world'))"
   ]
  },
  {
   "cell_type": "markdown",
   "metadata": {},
   "source": [
    "As you can see above, the blank curly braces were replaced with the string argument `'world'`.\n",
    "\n",
    "Note that the method does not change the string itself but returns a new string."
   ]
  },
  {
   "cell_type": "markdown",
   "metadata": {},
   "source": [
    "You can make multiple replacements at a time if you have a string with multiple replacement fields:"
   ]
  },
  {
   "cell_type": "code",
   "execution_count": 2,
   "metadata": {},
   "outputs": [
    {
     "name": "stdout",
     "output_type": "stream",
     "text": [
      "1, 2, 3\n"
     ]
    }
   ],
   "source": [
    "print('{}, {}, {}'.format(1, 2, 3))"
   ]
  },
  {
   "cell_type": "markdown",
   "metadata": {},
   "source": [
    "Sometimes you will want more control over how the arguments of format are placed into the string. There is a specific syntax for formatting which you can read in the [documentation](https://docs.python.org/3.4/library/string.html#format-string-syntax). We will cover a few examples."
   ]
  },
  {
   "cell_type": "markdown",
   "metadata": {},
   "source": [
    "## Specify Arguments by Position\n",
    "\n",
    "If you want to specify the order in which the arguments of format are placed into the string, you can put numbers in the replacement fields to reference the positional arguments:"
   ]
  },
  {
   "cell_type": "code",
   "execution_count": 2,
   "metadata": {},
   "outputs": [
    {
     "name": "stdout",
     "output_type": "stream",
     "text": [
      "1, 3, 2\n"
     ]
    }
   ],
   "source": [
    "print('{0}, {2}, {1}'.format(1, 2, 3))"
   ]
  },
  {
   "cell_type": "markdown",
   "metadata": {},
   "source": [
    "Note that this also allows you to repeat elements:"
   ]
  },
  {
   "cell_type": "code",
   "execution_count": 3,
   "metadata": {},
   "outputs": [
    {
     "name": "stdout",
     "output_type": "stream",
     "text": [
      "1, 3, 2, 3\n"
     ]
    }
   ],
   "source": [
    "print('{0}, {2}, {1}, {2}'.format(1, 2, 3))"
   ]
  },
  {
   "cell_type": "markdown",
   "metadata": {},
   "source": [
    "## Specify Arguments by Name\n",
    "\n",
    "You can also specify arguments by name, the arguments must then be presented as keyword arguments:"
   ]
  },
  {
   "cell_type": "code",
   "execution_count": 35,
   "metadata": {},
   "outputs": [
    {
     "name": "stdout",
     "output_type": "stream",
     "text": [
      "You can find the point at position (2, 6).\n"
     ]
    }
   ],
   "source": [
    "print('You can find the point at position ({x}, {y}).'.format(x = 2, y = 6)) #Arguments with names 'x' and 'y'"
   ]
  },
  {
   "cell_type": "markdown",
   "metadata": {},
   "source": [
    "## Specifying Numerical Types and Precision\n",
    "\n",
    "To put it simply, when formatting numerical arguments the format specifier (to be placed in the replacement field) is of the structure:\n",
    "`[argument_reference]:[width][.precision][type]`\n",
    "\n",
    "Where\n",
    "- `argument_reference` is the position of or name of the argument. \n",
    "- `width` specifies the minimum width that a replacement will take (look to the docs for alignment options)\n",
    "- For floats `precision` can be seen as the number of decimal places.\n",
    "- `type` specifies what type you want to display the number as. Multiple types exist for both integers and floats, but the most commonly used types are `d` for decimal integer and `f` for fixed point number (which you can use for floats)\n",
    "\n",
    "Each of these parts of the format specifier are optional."
   ]
  },
  {
   "cell_type": "markdown",
   "metadata": {},
   "source": [
    "As a first example, lets display an integer:"
   ]
  },
  {
   "cell_type": "code",
   "execution_count": 27,
   "metadata": {},
   "outputs": [
    {
     "name": "stdout",
     "output_type": "stream",
     "text": [
      "5\n"
     ]
    }
   ],
   "source": [
    "print('{:d}'.format(5))"
   ]
  },
  {
   "cell_type": "markdown",
   "metadata": {},
   "source": [
    "Now, lets see how the width affects the output:"
   ]
  },
  {
   "cell_type": "code",
   "execution_count": 28,
   "metadata": {},
   "outputs": [
    {
     "name": "stdout",
     "output_type": "stream",
     "text": [
      "5\n",
      "5\n",
      " 5\n",
      "  5\n"
     ]
    }
   ],
   "source": [
    "print('{:d}'.format(5)) #minimum width of 0\n",
    "print('{:1d}'.format(5)) #minimum width of 1\n",
    "print('{:2d}'.format(5)) #minimum width of 2\n",
    "print('{:3d}'.format(5)) #minimum width of 3"
   ]
  },
  {
   "cell_type": "markdown",
   "metadata": {},
   "source": [
    "As you can see the first 2 outputs are the same. That is because the output is of length 1."
   ]
  },
  {
   "cell_type": "markdown",
   "metadata": {},
   "source": [
    "If you want to display a float to 2 decimal places, specify precision:"
   ]
  },
  {
   "cell_type": "code",
   "execution_count": 29,
   "metadata": {},
   "outputs": [
    {
     "name": "stdout",
     "output_type": "stream",
     "text": [
      "1.23\n"
     ]
    }
   ],
   "source": [
    "print('{:.2f}'.format(1.232435455))"
   ]
  },
  {
   "cell_type": "markdown",
   "metadata": {},
   "source": [
    "If you want to specify the position of the argument, include a reference to the argument position:"
   ]
  },
  {
   "cell_type": "code",
   "execution_count": 32,
   "metadata": {},
   "outputs": [
    {
     "name": "stdout",
     "output_type": "stream",
     "text": [
      "5.354\n"
     ]
    }
   ],
   "source": [
    "print('{1:.3f}'.format(1.232435455, 5.35362)) #argument position of 1"
   ]
  },
  {
   "cell_type": "markdown",
   "metadata": {
    "tags": [
     "remove_cell"
    ]
   },
   "source": [
    "## Including Curly Braces in Formatted String\n",
    "\n",
    "If you want to include curly braces in a string you are formatting you can double them up:"
   ]
  },
  {
   "cell_type": "markdown",
   "metadata": {
    "tags": [
     "remove_cell"
    ]
   },
   "source": [
    "<!--- This doesn't work either --->\n",
    "```python\n",
    "'Format a {} while keeping {{}}'.format('string')\n",
    "```\n",
    "gives us\n",
    "```\n",
    "Format a string while keeping {}\n",
    "```"
   ]
  },
  {
   "cell_type": "code",
   "execution_count": 5,
   "metadata": {
    "tags": [
     "remove_cell"
    ]
   },
   "outputs": [
    {
     "name": "stdout",
     "output_type": "stream",
     "text": [
      "Format a string while keeping {}\n"
     ]
    }
   ],
   "source": [
    "#This cell causes a Liquid syntax error, it doesn't like {{}}\n",
    "# It doesn't work for markdown code blocks either.\n",
    "print('Format a {} while keeping {{}}'.format('string'))"
   ]
  },
  {
   "cell_type": "markdown",
   "metadata": {
    "tags": [
     "remove_cell"
    ]
   },
   "source": [
    "You can also enclose the replacement field in double braces:"
   ]
  },
  {
   "cell_type": "code",
   "execution_count": 8,
   "metadata": {
    "tags": [
     "remove_cell"
    ]
   },
   "outputs": [
    {
     "name": "stdout",
     "output_type": "stream",
     "text": [
      "{Text inside braces}\n"
     ]
    }
   ],
   "source": [
    "#This cell causes problems when building\n",
    "print('{{{}}}'.format('Text inside braces'))"
   ]
  },
  {
   "cell_type": "markdown",
   "metadata": {},
   "source": [
    "## Alternative Syntax"
   ]
  },
  {
   "cell_type": "markdown",
   "metadata": {},
   "source": [
    "Instead of using the `.format()` method on a string, you could alternatively use an f-string for formatting (f prefixed before a  string literal)."
   ]
  },
  {
   "cell_type": "code",
   "execution_count": 2,
   "metadata": {},
   "outputs": [
    {
     "data": {
      "text/plain": [
       "'Hello World! How are you doing today?'"
      ]
     },
     "execution_count": 2,
     "metadata": {},
     "output_type": "execute_result"
    }
   ],
   "source": [
    "subject = 'World'\n",
    "time = 'today'\n",
    "\n",
    "f'Hello {subject}! How are you doing {time}?'"
   ]
  },
  {
   "cell_type": "markdown",
   "metadata": {},
   "source": [
    "This simplifies things substantially, but has less range of applicability than `.format()`."
   ]
  }
 ],
 "metadata": {
  "kernelspec": {
   "display_name": "Python 3",
   "language": "python",
   "name": "python3"
  },
  "language_info": {
   "codemirror_mode": {
    "name": "ipython",
    "version": 3
   },
   "file_extension": ".py",
   "mimetype": "text/x-python",
   "name": "python",
   "nbconvert_exporter": "python",
   "pygments_lexer": "ipython3",
   "version": "3.7.3"
  }
 },
 "nbformat": 4,
 "nbformat_minor": 4
}
