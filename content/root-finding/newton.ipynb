{
 "cells": [
  {
   "cell_type": "markdown",
   "metadata": {},
   "source": [
    "# Newton"
   ]
  },
  {
   "cell_type": "markdown",
   "metadata": {},
   "source": [
    "The logical next step in determining the roots of a function would be to find a better approximation of the function $f(x)$, which we know to be the tangent of the curve. \n",
    "This requires that $f(x)$ is differential near $f(x_0)$ ($x_0$ being the root of the function) since the tangent is the derivative of the curve. \n",
    "\n",
    "![](figures/newton001.png)\n",
    "\n",
    "Now assuming our first guess to the root is $p_0$, then the tangent line is equal to\n",
    "$$ y - f(p_0) = f^{\\prime}(p_0)\\cdot (x-p_0) \\mbox{\tfrom\t} f^{\\prime}(p_0) \\approx \\frac{y - f(p_0)}{x-p_0} $$\n",
    "We will take our next approximation of the root from the $x$-axis intercept of the tangent line, i.e. substitute the point $(p_1, 0)$ such that we have\n",
    "$$ 0 - f(p_0) = f^{\\prime}(p_0) \\cdot (p_1-p_0). $$\n",
    "Rearranging this gives\n",
    "$$ p_1 = p_0 - \\frac{f(p_0)}{f^{\\prime}(p_0)}. $$\n",
    "Hence we see that we need to be able to evaluate both $f(x)$ and $f'(x)$. The general formula for the $(i+1)^{\\mbox{th}}$ step is \n",
    "$$ p_{i+1} = p_{i} - \\frac{f(p_{i})}{f^{\\prime}(p_{i})}. $$\n",
    "\n",
    "The obvious pitfall of this method is when $f^{\\prime}(p_i) = 0$. The initial guess is important as well as some basic information \n",
    "about the function and its derivative! All methods so far will only find one root in an interval, even if there are several roots \n",
    "actually present.\n",
    "\n",
    "Thus, **all but bisection can be non-convergent even if each iteration is forced to stay** within an interval."
   ]
  },
  {
   "cell_type": "markdown",
   "metadata": {},
   "source": [
    "# Newton Raphson Method"
   ]
  },
  {
   "cell_type": "markdown",
   "metadata": {},
   "source": [
    "The Newton Raphson method is similar to the secant method, except here we construct a straight line that passes through a point $(x_0, f(x_0))$ with a gradient of $f^\\prime (x_0)$, the tangent of $f(x)$ at that point. The next point, $x_1$, is the intersection of this line with the $x$-axis:\n",
    "\n",
    "![newton1]()\n",
    "\n",
    "As before, this process can be repeated with $x_1$, and the rest of the points after it, converging closer to the root. This process is illustrated in the following figures:\n",
    "\n",
    "![newton2]()\n",
    "\n",
    "To calculate the point $x_n$ using the previous point $x_{n-1}$, we start by constructing the line running through $(x_{n-1}, f(x_{n-1}))$:\n",
    "\n",
    "$$\n",
    "\\frac{y - f(x_{n-1})}{x - x_{n-1}} = f^\\prime (x_{n-1})\n",
    "$$\n",
    "\n",
    "at the $x$-intercept, $y = 0$ and $x = x_n$:\n",
    "\n",
    "$$\n",
    "\\begin{align*}\n",
    "\\frac{0 - f(x_{n-1})}{x_n - x_{n-1}} &= f^\\prime(x_{n-1})\\\\\n",
    "\\therefore x_n &= x_{n-1} - \\frac{f(x_{n-1})}{f^\\prime(x_{n-1})}\\\\\n",
    "\\end{align*}\n",
    "$$"
   ]
  },
  {
   "cell_type": "markdown",
   "metadata": {},
   "source": [
    "## Precision"
   ]
  },
  {
   "cell_type": "markdown",
   "metadata": {},
   "source": [
    "Similarly to the secant method, the precision for the Newton Raphson method can be set for a given tolerance by finding $n$ such that:\n",
    "\n",
    "$$\n",
    "|x_n - x_{n-1}| < \\text{tolerance}\n",
    "$$"
   ]
  },
  {
   "cell_type": "markdown",
   "metadata": {},
   "source": [
    "## Instability"
   ]
  },
  {
   "cell_type": "markdown",
   "metadata": {},
   "source": [
    "The Newton Raphson method suffers from much the same issues as the secant method."
   ]
  },
  {
   "cell_type": "code",
   "execution_count": null,
   "metadata": {},
   "outputs": [],
   "source": []
  }
 ],
 "metadata": {
  "kernelspec": {
   "display_name": "Python 3.7.3 64-bit ('base': conda)",
   "language": "python",
   "name": "python37364bitbaseconda97808f46a65a4f1e9dfdbcff18a07fbf"
  },
  "language_info": {
   "codemirror_mode": {
    "name": "ipython",
    "version": 3
   },
   "file_extension": ".py",
   "mimetype": "text/x-python",
   "name": "python",
   "nbconvert_exporter": "python",
   "pygments_lexer": "ipython3",
   "version": "3.7.3"
  }
 },
 "nbformat": 4,
 "nbformat_minor": 4
}
