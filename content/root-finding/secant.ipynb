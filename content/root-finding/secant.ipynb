{
 "cells": [
  {
   "cell_type": "markdown",
   "metadata": {},
   "source": [
    "# Secant"
   ]
  },
  {
   "cell_type": "markdown",
   "metadata": {},
   "source": [
    "While the bisection method is reliable, it is too slow for most practical applications. The bisection method uses very little information about the function (only its sign on the boundaries). If we use more information, we can improve the method. In the secant method we approximate the function as a straight line (or secant) going through points $(a, f(a))$ and $(b, f(b))$ (see Figure \\ref{fig: secant} below), where $[a,b]$ is our interval containing the root. The new approximation of the root is chosen as the intersection of the secant with the $x$-axis.\n",
    "\n",
    "![](figures/secant002.png)\n",
    "\n",
    "1. Start with an interval $[a,b]$ containing the root, $p_0 = a$ and $p_1 = b$.\n",
    "2. To find the intersection point $p_2$, we need to find the equation of the line passing through $(p_0, f(p_0))$ and $(p_1, f(p_1))$:\n",
    "    \n",
    "    $$\n",
    "    y = \\frac{ f(p_1) - f(p_0)}{p_1 - p_0}(x - p_1) + f(p_1).\n",
    "    $$\n",
    "    At the intercept $y = 0$:\n",
    "    \n",
    "    $$\n",
    "    \\begin{align*}\n",
    "    0 \t\t\t     &= \\frac{ f(p_1) - f(p_0)}{p_1 - p_0}(x - p_1) + f(p_1) \\\\\n",
    "    \\therefore p_2 \t &= p_1 - f(p_1)\\frac{p_1 - p_0}{f(p_1) - f(p_0)}\\\\\n",
    "    \\end{align*}\n",
    "    $$\n",
    "    \n",
    "3. Continue finding more $p_i$s with the general formula:\n",
    "\n",
    "    $$\n",
    "    p_i = p_{i-1} - f(p_{i-1})\\frac{p_{i-1} - p_{i-2}}{f(p_{i-1}) - f(p_{i-2})}\n",
    "    $$\n",
    "    \n",
    "    until $|p_i - p_{i-1}|$ is small enough to satisfy our tolerance.\n",
    "    Note that it is better to keep the formula in this form rather than expanding it, as doing so may cause rounding errors in the case of small distances.\n",
    "\n",
    "The secant method converges much faster than the bisection method, though this difference in speed is difficult to approximate theoretically.\n",
    "The secant method does also bear the risk of not converging to a solution, even if the root does exist."
   ]
  },
  {
   "cell_type": "markdown",
   "metadata": {},
   "source": [
    "# Secant Method"
   ]
  },
  {
   "cell_type": "markdown",
   "metadata": {},
   "source": [
    "In the secant method we construct a line running between two points on the curve $(x_0, f(x_0))$ and $(x_1, f(x_1))$, and find where it intersects with the $x$-axis: $x_2$:\n",
    "\n",
    "![secant1]()\n",
    "\n",
    "It is assumed that the new point is closer to the root. The justification behind this is beyond the scope of this course.\n",
    "\n",
    "Note that the starting values $x_0$ and $x_1$ can bracket the root, though they need not. You should choose points that are close to the root you desire to find, especially if the function has multiple roots. \n",
    "\n",
    "We can continue in this fashion, constructing a line between $(x_1, f(x_1))$ and $(x_2, f(x_2))$, and finding the point where this line intersects with the $x$-axis, $x_3$. We can continue using the last two points to find the new one, all the while getting closer to the root with each point, as illustrated with the following figures:\n",
    "\n",
    "![secant2]()\n",
    "\n",
    "To calculate the intersection $x_n$ for the line constructed from the previous two points $(x_{n-2}, f(x_{n-2}))$ and $(x_{n-2}, f(x_{n-2}))$ we find the equation of the line:\n",
    "\n",
    "$$\n",
    "y = \\frac{f(x_{n-1}) - f(x_{n-2})}{x_{n-1} - x_{n-2}}(x - x_{n-1}) + f(x_{n-1})\n",
    "$$\n",
    "\n",
    "At the $x$-intercept $y=0$ and $x = x_n$:\n",
    "\n",
    "$$\n",
    "\\begin{align*}\n",
    "\\frac{f(x_{n-1}) - f(x_{n-2})}{x_{n-1} - x_{n-2}}(x_n - x_{n-1}) + f(x_{n-1}) &= 0 \\\\\n",
    "\\therefore x_n &= x_{n-1} - f(x_{n-1}) \\frac{x_{n-1} - x_{n-2}}{f(x_{n-1}) - f(x_{n-2})}\n",
    "\\end{align*}\n",
    "$$"
   ]
  },
  {
   "cell_type": "markdown",
   "metadata": {},
   "source": [
    "## Precision"
   ]
  },
  {
   "cell_type": "markdown",
   "metadata": {},
   "source": [
    "In general the secant method converges far faster than the bisection method, however it is not possible to predict how many iterations are required to achieve a given precision. The precision of the solution can be determined by measuring the convergence of you solution. For a given tolerance, you have reached your required precision when:\n",
    "\n",
    "$$\n",
    "|x_n - x_{n-1}| < \\text{tolerance}\n",
    "$$\n",
    "\n",
    "Practically you can use a `while` loop to achieve this."
   ]
  },
  {
   "cell_type": "markdown",
   "metadata": {},
   "source": [
    "## Instability"
   ]
  },
  {
   "cell_type": "markdown",
   "metadata": {},
   "source": [
    "Unlike the bisection method, the secant method isn't always guaranteed to converge, depending on the characteristics of $f(x)$. For example, if there is a stationary point, or if the gradient of $f(x)$ approaches 0 the constructed line can become nearly horizontal, causing the next value of $x_n$ to diverge.\n",
    "\n",
    "It is also possible for the solution to converge to a different root if they are in close proximity."
   ]
  }
 ],
 "metadata": {
  "kernelspec": {
   "display_name": "Python 3.7.3 64-bit ('base': conda)",
   "language": "python",
   "name": "python37364bitbaseconda97808f46a65a4f1e9dfdbcff18a07fbf"
  },
  "language_info": {
   "codemirror_mode": {
    "name": "ipython",
    "version": 3
   },
   "file_extension": ".py",
   "mimetype": "text/x-python",
   "name": "python",
   "nbconvert_exporter": "python",
   "pygments_lexer": "ipython3",
   "version": "3.7.3"
  }
 },
 "nbformat": 4,
 "nbformat_minor": 4
}
