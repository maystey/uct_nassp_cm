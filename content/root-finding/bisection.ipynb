{
 "cells": [
  {
   "cell_type": "markdown",
   "metadata": {},
   "source": [
    "# Bisection Method"
   ]
  },
  {
   "cell_type": "markdown",
   "metadata": {},
   "source": [
    "For the bisection method, we start with an interval in which we know the solution resides. We repeatedly half the interval, discarding the half that does not contain the solution, improving our accuracy.\n",
    "\n",
    "1. Choose an interval $[a, b]$ so that $f(a) \\cdot f(b) < 0$ (illustrated in the figure below).\n",
    "2. Find the midpoint of the interval $x_m = \\tfrac{b + a}{2}$.\n",
    "3. Compare the \\underline{sign} of the products of function values:\n",
    " \n",
    "    - If $f(x_m) = 0$, we have found the root.\n",
    "    - If $f(x_m) \\cdot f(a) < 0$, change the interval to $[a, x_m]$.\n",
    "    - If $f(x_m) \\cdot f(b) < 0$, change the interval to $[x_m, b]$.\n",
    "\n",
    "4. Repeat the process until the desired accuracy is achieved (this suggests a while loop).\n",
    "\n",
    "![Bisection Method](figures/bisect001.png)\n",
    "\n",
    "The error of our solution is the size of the last interval. Because the length of our interval is halved every step, we can calculate how many steps are needed to achieve a particular accuracy, given the length of our initial interval. After the first step the error is $\\tfrac{|b - a|}{2}$ and after the $n$\\textsuperscript{th} step the error is $\\tfrac{|b-a|}{2^n}$. Thus, for a specified tolerance, the number of steps required is:\n",
    "\n",
    "$$\n",
    "\\begin{align*}\n",
    "\\text{tolerance} &= \\frac{|b-a|}{2^n}\\\\\n",
    "\\therefore 2^n &= \\frac{|b -a|}{\\text{tolerance}} \\\\\n",
    "\\therefore n &= \\log_2 \\left(\\frac{|b-a|}{\\text{tolerance}}\\right) \\\\\n",
    "\\end{align*}\n",
    "$$\n",
    "\n",
    "\n",
    "As we know the number of iterations required to reach a given tolerance, we can use a `for` loop instead of a `while` loop. Note that the number of iterations depends on the size of the starting interval, so it helps to narrow this down before relying on the root finding technique."
   ]
  },
  {
   "cell_type": "markdown",
   "metadata": {},
   "source": [
    "# Bisection Method"
   ]
  },
  {
   "cell_type": "markdown",
   "metadata": {},
   "source": [
    "The bisection method is what is known as a bracketing root finding method.\n",
    "\n",
    "Assumptions: the root is not a turning point of the function, the function changes sign as it passes the root.\n",
    "\n",
    "The method can be summarized as:\n",
    "\n",
    "- Start with a bracket $[x_L, x_R]$ around the root.\n",
    "- Halve the bracket, introducing the midpoint $x_M$, giving you two brackets: $[x_L, x_M]$ and $[x_M, x_R]$\n",
    "- Keep the bracket that contains the root and discard the one that doesn't\n",
    "- Repeat the process until you are satisfied with the precision of your solution\n",
    "\n",
    "Note that with this technique you end up with an interval that contains the root, rather than an approximation for the root itself. Also note that this method will always converge on a root if one exists in the interval, but it operates under the assumption that there is only one root present in the interval and that this root is not found at a turning point of the function."
   ]
  },
  {
   "cell_type": "markdown",
   "metadata": {},
   "source": [
    "## In Depth"
   ]
  },
  {
   "cell_type": "markdown",
   "metadata": {},
   "source": [
    "Let's look at the steps of the method more in depth, starting with choosing our interval such that it contains the root:\n",
    "\n",
    "![bisection1]()\n",
    "\n",
    "We now divide the interval in half by intruding the midpoint $x_M = \\tfrac{1}{2} (x_L + x_R)$ and calculating $f(x_M)$:\n",
    "\n",
    "![bisection2]()\n",
    "\n",
    "Now we need to figure out which interval contains the root. We can do this by checking if the function value changes signs at the ends of the interval, i.e. which of $f(x_L)$ and $f(x_R)$ is the opposite sign of $f(x_M)$? An easy way to check this is to check if the product of $f(x_L) \\times f(x_M)$ or $f(x_M) \\times f(x_R)$ is negative. If the product is negative then the sign has changed in that interval and it is the one we choose. \n",
    "\n",
    "In the figure above, the right interval $[x_M, x_R]$ contains the root.\n",
    "\n",
    "If we want a more precise answer we can keep applying this technique to our chosen interval. Each time we are left with an interval that was half as big as the last, improving the precision of our solution.\n",
    "\n",
    "Subsequent iterations of the bisection method are illustrated in the figures below."
   ]
  },
  {
   "cell_type": "markdown",
   "metadata": {},
   "source": [
    "## Precision of The Result"
   ]
  },
  {
   "cell_type": "markdown",
   "metadata": {},
   "source": [
    "\n",
    "The error of our solution is the size of the last interval. Because the length of our interval is halved every step, we can calculate how many steps are needed to achieve a particular accuracy, given the length of our initial interval. After the first step the error is ${|b - a|}/{2}$ and after the $n$-th step the error is ${|b-a|}/{2^n}$. Thus, for a specified tolerance, the number of steps required is:\n",
    "\n",
    "$$\n",
    "\\begin{align*}\n",
    "\\text{tolerance} &= \\frac{|b-a|}{2^n}\\\\\n",
    "\\therefore 2^n &= \\frac{|b -a|}{\\text{tolerance}} \\\\\n",
    "\\therefore n &= \\log_2 \\left(\\frac{|b-a|}{\\text{tolerance}}\\right) \\\\\n",
    "\\end{align*}\n",
    "$$\n",
    "\n",
    "This value is rounded up to an integer.\n",
    "\n",
    "As we know the number of iterations required to reach a given tolerance, we can use a `for` loop instead of a `while` loop (though both are perfectly acceptable). Note that the number of iterations depends on the size of the starting interval, so it helps to narrow this down before relying on the root finding technique."
   ]
  }
 ],
 "metadata": {
  "kernelspec": {
   "display_name": "Python 3.7.3 64-bit ('base': conda)",
   "language": "python",
   "name": "python37364bitbaseconda97808f46a65a4f1e9dfdbcff18a07fbf"
  },
  "language_info": {
   "codemirror_mode": {
    "name": "ipython",
    "version": 3
   },
   "file_extension": ".py",
   "mimetype": "text/x-python",
   "name": "python",
   "nbconvert_exporter": "python",
   "pygments_lexer": "ipython3",
   "version": "3.7.3"
  }
 },
 "nbformat": 4,
 "nbformat_minor": 4
}
