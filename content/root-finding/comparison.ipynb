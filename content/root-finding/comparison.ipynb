{
 "cells": [
  {
   "cell_type": "markdown",
   "metadata": {},
   "source": [
    "# Comparing the Methods"
   ]
  },
  {
   "cell_type": "markdown",
   "metadata": {},
   "source": [
    "Let's compare the three root finding algorithms we have covered to each other."
   ]
  },
  {
   "cell_type": "markdown",
   "metadata": {},
   "source": [
    "## Bisection Method"
   ]
  },
  {
   "cell_type": "markdown",
   "metadata": {},
   "source": [
    "The bisection method starts with an interval that is known to contain the root. The size of this interval is halved with each iteration (improving the precision. For a desired tolerance (or precision), it is possible to calculate how many iterations the Bisection method will take.\n",
    "\n",
    "If $f$ is continuous on the interval, the interval only contains one root, and the function changes signs as it passes through the root, then the root is guaranteed to be found."
   ]
  },
  {
   "cell_type": "markdown",
   "metadata": {},
   "source": [
    "## Secant Method"
   ]
  },
  {
   "cell_type": "markdown",
   "metadata": {},
   "source": [
    "The Secant method requires two points near the root to start off with. If it will converge to the root, then it generally converges quicker than the bisection method, although it's not possible to calculate how many iterations the method will need for a given tolerance.\n",
    "\n",
    "It is possible for this method not to converge, especially in the case where the gradient of $f$ becomes shallow, which would cause one of the calculated points to shoot off.\n",
    "\n",
    "It is also possible for this method to converge on a different root if there is one nearby."
   ]
  },
  {
   "cell_type": "markdown",
   "metadata": {},
   "source": [
    "## Newton-Raphson Method"
   ]
  },
  {
   "cell_type": "markdown",
   "metadata": {},
   "source": [
    "The Newton-Rhaphson method is similar to the secant method, except it makes use of the derivative of $f$.\n",
    "\n",
    "As for the secant method, the Newton-Raphson method converges to the root faster than the bisection method. Also like the secant method, it is possible the method not to converge, or to converge on another nearby root."
   ]
  },
  {
   "cell_type": "markdown",
   "metadata": {},
   "source": [
    "## In Summary"
   ]
  },
  {
   "cell_type": "markdown",
   "metadata": {},
   "source": [
    "<table>\n",
    "    <tr>\n",
    "        <th></th>\n",
    "        <th>Bisection</th>\n",
    "        <th>Secant</th>\n",
    "        <th>Newton-Raphson</th>\n",
    "    </tr>\n",
    "    <tr>\n",
    "        <th>Convergence</th>\n",
    "        <td>Will always converge to a root inside the interval, as long as the function is well behaved.</td>\n",
    "        <td colspan=\"2\">May not converge to a root if the function has stationary points near it. May converge on neighboring roots.</td>\n",
    "    </tr>\n",
    "    <tr>\n",
    "        <th>Rate of Convergence</th>\n",
    "        <td>Relatively slow convergence.</td>\n",
    "        <td colspan=\"2\">Fast convergence</td>\n",
    "    </tr>\n",
    "    <tr>\n",
    "        <th>Complexity</th>\n",
    "        <td colspan=\"2\">Only requires the function, which must simply return values for arguments on the interval.</td>\n",
    "        <td>Requires knowledge of the first derivative of the function.</td>\n",
    "    </tr>\n",
    "</table>"
   ]
  },
  {
   "cell_type": "code",
   "execution_count": null,
   "metadata": {},
   "outputs": [],
   "source": []
  }
 ],
 "metadata": {
  "kernelspec": {
   "display_name": "Python 3.7.3 64-bit ('base': conda)",
   "language": "python",
   "name": "python37364bitbaseconda97808f46a65a4f1e9dfdbcff18a07fbf"
  },
  "language_info": {
   "codemirror_mode": {
    "name": "ipython",
    "version": 3
   },
   "file_extension": ".py",
   "mimetype": "text/x-python",
   "name": "python",
   "nbconvert_exporter": "python",
   "pygments_lexer": "ipython3",
   "version": "3.7.3"
  }
 },
 "nbformat": 4,
 "nbformat_minor": 4
}
