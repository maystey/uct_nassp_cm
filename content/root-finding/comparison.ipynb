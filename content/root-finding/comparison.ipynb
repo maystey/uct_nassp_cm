{
 "cells": [
  {
   "cell_type": "markdown",
   "metadata": {},
   "source": [
    "## Bisection\n",
    "\n",
    "- **[Pro:]** An advantage of this method is that with a well chosen starting interval the method is robust (i.e. it will ALWAYS find a root).\n",
    "- **[Con:]** Bisection method is slow compared to other methods.\n",
    "\n",
    "## Secant\n",
    "\n",
    "## Newton Raphson\n",
    "\n",
    "- **[Pro:]** Newton's method has a very fast convergence! It's what is known as quadratically convergent as \n",
    "\t      opposed to linearly convergent like the bisection and secant methods.\n",
    "- **[Con:]** Method is vulnerable if $f^{\\prime}(x) = 0$ near the root! It can break down and not find a root!"
   ]
  },
  {
   "cell_type": "code",
   "execution_count": null,
   "metadata": {},
   "outputs": [],
   "source": []
  }
 ],
 "metadata": {
  "kernelspec": {
   "display_name": "Python 3.7.3 64-bit ('base': conda)",
   "language": "python",
   "name": "python37364bitbaseconda97808f46a65a4f1e9dfdbcff18a07fbf"
  },
  "language_info": {
   "codemirror_mode": {
    "name": "ipython",
    "version": 3
   },
   "file_extension": ".py",
   "mimetype": "text/x-python",
   "name": "python",
   "nbconvert_exporter": "python",
   "pygments_lexer": "ipython3",
   "version": "3.7.3"
  }
 },
 "nbformat": 4,
 "nbformat_minor": 4
}
