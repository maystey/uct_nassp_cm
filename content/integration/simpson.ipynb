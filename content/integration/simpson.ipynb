{
 "cells": [
  {
   "cell_type": "markdown",
   "metadata": {},
   "source": [
    "# Simpson's Rule"
   ]
  },
  {
   "cell_type": "markdown",
   "metadata": {},
   "source": [
    "One method of approximating the integral is to approximate the curve itself with something simpler that we know how to integrate. The Simpson's rule approximates the curve as a parabola, which is simple to integrate."
   ]
  },
  {
   "cell_type": "markdown",
   "metadata": {},
   "source": [
    "## Approximating $f(x)$ as a Quadratic Polynomial"
   ]
  },
  {
   "cell_type": "markdown",
   "metadata": {},
   "source": [
    "In order to approximate $f(x)$ as a quadratic polynomial we can use a second order Lagrangian polynomial. We construct this polynomial by using 3 data points $(a, f(a))$, $(m, f(m))$ and $(b, f(b))$.\n",
    "\n",
    "$$\n",
    "L(x) = f(a) \\frac{(x - m)(x - b)}{(a - m)(a - b)} + f(m) \\frac{(x - a)(x - b)}{(m - a)(m - b)} + f(b) \\frac{(x - a)(x - m)}{(b - a)(b - m)}\n",
    "$$"
   ]
  },
  {
   "cell_type": "markdown",
   "metadata": {},
   "source": [
    "where $m$ is the midpoint of the interval $m = \\tfrac{1}{2} (a + b)$.\n",
    "\n",
    "Some magic ...\n",
    "\n",
    "$$\n",
    "I \\approx \\int_a^b L(x) dx = \\frac{b -a}{6} \\left[f(a) + 4 f\\left(\\frac{a + b}{2}\\right) + f(b) \\right]\n",
    "$$"
   ]
  },
  {
   "cell_type": "markdown",
   "metadata": {},
   "source": [
    "## Composite Simpson's Rule"
   ]
  },
  {
   "cell_type": "markdown",
   "metadata": {},
   "source": [
    "As before we can improve the accuracy of our solution by subdividing the interval and calculating the integral using Simpson's rule for each interval.\n",
    "\n",
    "![simpsons2]()\n",
    "\n",
    "The composite Simpson's rule is given by:\n",
    "\n",
    "\n",
    "WARNING, the midpoint is included as a data point here!\n",
    "$$\n",
    "\\begin{align*}\n",
    "I_n &= \\sum_{i = 1}^i \\frac{x_i - x_{i-1}}{6} \\left[ f(x_{i-1}) + 4 f\\left(\\frac{x_{i-1} + x_i}{2}\\right) + f(x_i)\\right]\\\\\n",
    "\\end{align*}\n",
    "$$\n",
    "\n",
    "Where $x_0 = a$, $x_n = b$ and $x_i = a +  i(b - a)/n$.\n",
    "\n",
    "Notice that there are overlapping $x_i$ terms in the sum, breaking it up, \n",
    "\n",
    "some magic ...\n",
    "\n",
    "$$\n",
    "I_n &= \\frac{b -a }{3} \\left[f(a) + 4\\sum_{i=1}^{n/2} f(x_{2i-1}) + 2\\sum_{i=1}^{n/2-1} f(x_{2i}) + f(b) \\right]\n",
    "$$"
   ]
  },
  {
   "cell_type": "code",
   "execution_count": null,
   "metadata": {},
   "outputs": [],
   "source": []
  }
 ],
 "metadata": {
  "kernelspec": {
   "display_name": "Python 3.7.3 64-bit ('base': conda)",
   "language": "python",
   "name": "python37364bitbaseconda97808f46a65a4f1e9dfdbcff18a07fbf"
  },
  "language_info": {
   "codemirror_mode": {
    "name": "ipython",
    "version": 3
   },
   "file_extension": ".py",
   "mimetype": "text/x-python",
   "name": "python",
   "nbconvert_exporter": "python",
   "pygments_lexer": "ipython3",
   "version": "3.7.3"
  }
 },
 "nbformat": 4,
 "nbformat_minor": 4
}
