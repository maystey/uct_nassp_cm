{
 "cells": [
  {
   "cell_type": "markdown",
   "metadata": {},
   "source": [
    "# Midpoint Rule"
   ]
  },
  {
   "cell_type": "markdown",
   "metadata": {},
   "source": [
    "In the midpoint rule you approximate the area under the curve as a rectangle with the height as the function value at the midpoint of the interval:\n",
    "\n",
    "![midpoint1]()\n",
    "\n",
    "$$\n",
    "\\int_a^b f(x) dx \\approx f\\left(\\frac{a + b}{2}\\right) (b - a)\n",
    "$$"
   ]
  },
  {
   "cell_type": "markdown",
   "metadata": {},
   "source": [
    "## Composite Midpoint Rule"
   ]
  },
  {
   "cell_type": "markdown",
   "metadata": {},
   "source": [
    "For a more accurate solution we can subdivide the interval further, constructing rectangles for each subinterval, with the function value of the midpoint used as the height:\n",
    "\n",
    "![midpoint2]()\n",
    "\n",
    "For $n$ subdivisions:\n",
    "\n",
    "$$\n",
    "\\int_a^b \\approx I_{n} = \\sum_{i=1}^n f\\left(\\tfrac{1}{2}(x_i - x_{i-1})\\right) (x_i - x_{i-1})\n",
    "$$"
   ]
  }
 ],
 "metadata": {
  "kernelspec": {
   "display_name": "Python 3.7.3 64-bit ('base': conda)",
   "language": "python",
   "name": "python37364bitbaseconda97808f46a65a4f1e9dfdbcff18a07fbf"
  },
  "language_info": {
   "codemirror_mode": {
    "name": "ipython",
    "version": 3
   },
   "file_extension": ".py",
   "mimetype": "text/x-python",
   "name": "python",
   "nbconvert_exporter": "python",
   "pygments_lexer": "ipython3",
   "version": "3.7.3"
  }
 },
 "nbformat": 4,
 "nbformat_minor": 4
}
