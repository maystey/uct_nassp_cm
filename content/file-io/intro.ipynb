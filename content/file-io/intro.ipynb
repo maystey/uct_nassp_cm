{
 "cells": [
  {
   "cell_type": "markdown",
   "metadata": {},
   "source": [
    "# File I/O"
   ]
  },
  {
   "cell_type": "markdown",
   "metadata": {},
   "source": [
    "## `open()` Function"
   ]
  },
  {
   "cell_type": "markdown",
   "metadata": {},
   "source": [
    "The `open()` function is the Standard Library option for reading and writing both text and binary files. It returns a file object, the exact type depending on the type of file you read.\n",
    "\n",
    "The file object has methods for reading from and writing to the file.\n",
    "\n",
    "- The file object is iterable\n",
    "- Signature\n",
    "    ```python\n",
    "    open(filename, mode = 'r')\n",
    "    ```   "
   ]
  },
  {
   "cell_type": "markdown",
   "metadata": {},
   "source": [
    "### File Modes"
   ]
  },
  {
   "cell_type": "markdown",
   "metadata": {},
   "source": [
    "The different modes for `open()` are (taken from the docstring):\n",
    "\n",
    "| Character | Meaning |\n",
    "| :--- | :--- |\n",
    "|'r' | open for reading (**default**) |  \n",
    "|'w' | open for writing, truncating the file first |   \n",
    "|'x' | create a new file and open it for writing |  \n",
    "|'a' | open for writing, appending to the end of the file if it exists |  \n",
    "|'b' | binary mode |  \n",
    "|'t' | text mode (**default**) |  \n",
    "|'+' | open a disk file for updating (reading and writing) |  \n",
    "|'U' | universal newline mode (deprecated) |  \n",
    "\n",
    "Modes can be combined. For example, the default mode is `'rt'`, or \"read text-file\". If you wanted to open a binary file in write mode, you could use `'wb'`. See the docstring for more of an explanation"
   ]
  },
  {
   "cell_type": "markdown",
   "metadata": {},
   "source": [
    "## `with` Statement"
   ]
  },
  {
   "cell_type": "markdown",
   "metadata": {},
   "source": [
    "## Opening Files Without `with`"
   ]
  },
  {
   "cell_type": "code",
   "execution_count": null,
   "metadata": {},
   "outputs": [],
   "source": []
  }
 ],
 "metadata": {
  "kernelspec": {
   "display_name": "Python 3.7.3 64-bit ('base': conda)",
   "language": "python",
   "name": "python37364bitbaseconda97808f46a65a4f1e9dfdbcff18a07fbf"
  },
  "language_info": {
   "codemirror_mode": {
    "name": "ipython",
    "version": 3
   },
   "file_extension": ".py",
   "mimetype": "text/x-python",
   "name": "python",
   "nbconvert_exporter": "python",
   "pygments_lexer": "ipython3",
   "version": "3.7.3"
  }
 },
 "nbformat": 4,
 "nbformat_minor": 4
}
