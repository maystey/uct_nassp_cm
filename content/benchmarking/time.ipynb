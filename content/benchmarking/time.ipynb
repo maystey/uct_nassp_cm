{
 "cells": [
  {
   "cell_type": "markdown",
   "metadata": {},
   "source": [
    "# Timing With `time.perf_counter`\n",
    "\n",
    "We will use the `time` module to perform our benchmarks. More specialized modules exist, but for this course we will keep benchmarking simple.\n",
    "\n",
    "The `time` module gives access to the computers system clocks, as well as \n",
    "functions for converting time formats.\n",
    "\n",
    "The documentation for `time` can be found [here](https://docs.python.org/3/library/time.html).\n",
    "\n",
    "The function that is of particular importance to us is `perf_counter()` :"
   ]
  },
  {
   "cell_type": "code",
   "execution_count": 2,
   "metadata": {},
   "outputs": [],
   "source": [
    "from time import perf_counter"
   ]
  },
  {
   "cell_type": "markdown",
   "metadata": {},
   "source": [
    "It uses the most precise system wide clock available to it to return a time in seconds. The starting point of the timer is arbitrary and system dependent, so only time differences are of use to us. When timing a block of code make sure to take the time directly before and after the block."
   ]
  },
  {
   "cell_type": "markdown",
   "metadata": {},
   "source": [
    "## Worked Example"
   ]
  },
  {
   "cell_type": "markdown",
   "metadata": {},
   "source": [
    "Let's say we want to compare the time it takes to perform the sum\n",
    "\n",
    "$$\n",
    "\\sum_{n = 1}^{1000} \\frac{(-1)^{n}}{n}\n",
    "$$\n",
    "\n",
    "using a for loop to using NumPy array functions."
   ]
  },
  {
   "cell_type": "code",
   "execution_count": 5,
   "metadata": {},
   "outputs": [
    {
     "name": "stdout",
     "output_type": "stream",
     "text": [
      "Using a loop:\n",
      "The value of the sum is: -0.6926474305598223\n",
      "The time taken to compute the sum is: 0.0018592540000099689\n"
     ]
    }
   ],
   "source": [
    "#Timing the use of a loop\n",
    "start_time = perf_counter()\n",
    "\n",
    "s = 0\n",
    "for n in range(1, 1001):\n",
    "    s += (-1)**n/n\n",
    "\n",
    "loop_time = perf_counter() - start_time\n",
    "\n",
    "print('Using a loop:')\n",
    "print('The value of the sum is:', s)\n",
    "print('The time taken to compute the sum is:', loop_time)"
   ]
  },
  {
   "cell_type": "code",
   "execution_count": 4,
   "metadata": {},
   "outputs": [
    {
     "name": "stdout",
     "output_type": "stream",
     "text": [
      "Using NumPy:\n",
      "The value of the sum is: -0.6926474305598204\n",
      "The time taken to compute the sum is: 0.001659153999753471\n"
     ]
    }
   ],
   "source": [
    "#Timing the use of numpy functions\n",
    "import numpy as np\n",
    "\n",
    "start_time = perf_counter()\n",
    "\n",
    "n_arr = np.arange(1, 1001)\n",
    "s = np.sum( (-1)**n_arr/n_arr )\n",
    "\n",
    "np_time = perf_counter() - start_time\n",
    "\n",
    "print('Using NumPy:')\n",
    "print('The value of the sum is:', s)\n",
    "print('The time taken to compute the sum is:', np_time)"
   ]
  },
  {
   "cell_type": "markdown",
   "metadata": {},
   "source": [
    "Note that the times for both the looping method and NumPy method are very similar. Every time the code is run the values also fluctuate wildly. This makes it difficult to compare the performance of these solutions.\n",
    "\n",
    "As a solution to this problem, we can take many runs of the code block in question and quote the total time taken to execute all of them. This will limit the effects of the fluctuation on our measurement and it will also make it less likely for us to run into floating point errors (the times of individual code runs can be very small).\n",
    "\n",
    "Something to keep in mind when running a benchmark is to limit the number of background processes you have running on your computer, in particular those who's resource requirements fluctuate.\n",
    "\n",
    "Don't time what you don't intend to measure, only time the code you are interested in benchmarking. If you use a loop to repeat measurements (i.e. it isn't an essential part of the code you're testing) don't include the overhead from the loop in your timing. If you are using print function calls for debugging purposes, you should also exclude those from the timing (in the example above the print calls were performed **after** the time was taken)."
   ]
  }
 ],
 "metadata": {
  "kernelspec": {
   "display_name": "Python 3",
   "language": "python",
   "name": "python3"
  },
  "language_info": {
   "codemirror_mode": {
    "name": "ipython",
    "version": 3
   },
   "file_extension": ".py",
   "mimetype": "text/x-python",
   "name": "python",
   "nbconvert_exporter": "python",
   "pygments_lexer": "ipython3",
   "version": "3.7.3"
  }
 },
 "nbformat": 4,
 "nbformat_minor": 4
}
