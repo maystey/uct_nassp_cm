{
 "cells": [
  {
   "cell_type": "markdown",
   "metadata": {},
   "source": [
    "# Multivariate Linear Least Squares Minimization"
   ]
  },
  {
   "cell_type": "markdown",
   "metadata": {},
   "source": [
    "In [Linear Least Squares Minimization](/linear-regression/least-squares), we considered the linear functional relation between two measurable variables, $x$ and $y$:\n",
    "\n",
    "$$\n",
    "y = a_0 + a_1 x\n",
    "$$\n",
    "\n",
    "where $a_0$ and $a_1$ are unknown conditions to be determined.\n",
    "\n",
    "On this page we will look at the more generic case, where we solve the problem for an arbitrary number of variables and constants."
   ]
  },
  {
   "cell_type": "markdown",
   "metadata": {},
   "source": [
    "## Three Variables"
   ]
  },
  {
   "cell_type": "markdown",
   "metadata": {},
   "source": [
    "Let's start by solving this problem for three measurable variables: $y$, $x_1$ and $x_2$, in the linear functional relation:\n",
    "\n",
    "$$\n",
    "y = a_0 + a_1 x_1 + a_2 x_2\n",
    "$$\n",
    "\n",
    "where $a_0$, $a_1$ and $a_2$ are unknown coefficients.\n",
    "\n",
    "Consider a data set of measured $(x_{1i}, x_{2i}, y_i)$ pairs for $i = 1, 2, 3, \\dots , N$. If we attribute the dispersion of this data from the functional relation to error in the $y_i$ terms, $\\epsilon_i$, then we can relate the data points with:\n",
    "\n",
    "$$\n",
    "\\begin{align*}\n",
    "y_i + \\epsilon_i &= a_0 + a_1 x_{1 i} + a_2 x_{2 i}\\\\\n",
    "\\therefore \\epsilon_i = a_0 + a_1 x_{1 i} + a_2 x_{2 i} - y_i\\\\\n",
    "\\end{align*}\n",
    "$$\n",
    "\n",
    "The sum of errors squared is given by:\n",
    "\n",
    "$$\n",
    "\\begin{align*}\n",
    "S &= \\sum_{i = 1}^N \\epsilon_i^2 \\\\\n",
    "  &= \\sum_{i=1}^N (a_0 + a_1 x_{1i} + a_2 x_{2i} - y_i)\\\\\n",
    "\\end{align*}\n",
    "$$\n",
    "\n",
    "We want to minimize $S$ with respect to each of the constants, $a_0$, $a_1$ and $a_2$:\n",
    "\n",
    "$$\n",
    "\\frac{\\partial S}{\\partial a_0} = 2 \\sum_{i=0}^n (a_0 + a_1x_{1i} + a_2x_{21} - y_i) = 0\n",
    "$$\n",
    ",\n",
    "$$\n",
    "\\frac{\\partial S}{\\partial a_1} = 2 \\sum_{i=0}^n (a_0 + a_1x_{1i} + a_2x_{21} - y_i)x_{1i} = 0\n",
    "$$\n",
    "and\n",
    "$$\n",
    "\\frac{\\partial S}{\\partial a_2} = 2 \\sum_{i=0}^n (a_0 + a_1x_{1i} + a_2x_{21} - y_i)x_{2i} = 0\n",
    "$$"
   ]
  },
  {
   "cell_type": "markdown",
   "metadata": {},
   "source": [
    "Re-arranging the above equations and using our statistical notation yields:\n",
    "\n",
    "$$\n",
    "a_0 + a_1 \\langle x_1 \\rangle + a_2 \\langle x_2 \\rangle = \\langle y \\rangle\n",
    "$$\n",
    "\n",
    ",\n",
    "\n",
    "$$\n",
    "a_0\\langle x_1\\rangle + a_1\\langle x_1^2\\rangle + a_2\\langle x_1x_2 \\rangle = \\langle x_1y \\rangle\\\\\n",
    "$$\n",
    "\n",
    "and\n",
    "\n",
    "$$\n",
    "a_0\\langle x_2\\rangle + a_1\\langle x_1x_2\\rangle + a_2\\langle x_2^2\\rangle = \\langle x_2y\\rangle\n",
    "$$\n",
    "\n",
    "This time algebraic manipulation is a lot more work, instead we shall use a matrix equation (which will serve us better in the more generic case to come). The matrix equation representation is:\n",
    "\n",
    "$$\n",
    "\\begin{pmatrix}\n",
    "  1\t\t&\\langle x_1\\rangle\t\t&\\langle{x_2}\\rangle\\\\\n",
    "  \\langle{x_1}\\rangle\t&\\langle{x_1^2}\\rangle\t\t&\\langle{x_1x_2}\\rangle\\\\\n",
    "  \\langle{x_2}\\rangle\t&\\langle{x_1x_2}\\rangle\t&\\langle{x_2^2}\\rangle\\\\\n",
    " \\end{pmatrix}\n",
    "  \\begin{pmatrix}\n",
    "  a_0\\\\\n",
    "  a_1\\\\\n",
    "  a_2\\\\\n",
    " \\end{pmatrix}\n",
    " = \n",
    " \\begin{pmatrix}\n",
    "  \\langle{y}\\rangle\\\\\n",
    "  \\langle{x_1 y}\\rangle\\\\\n",
    "  \\langle{x_2 y}\\rangle\n",
    " \\end{pmatrix}\n",
    "$$\n",
    "\n",
    "This can easily be solved numerically using:\n",
    "$$\n",
    "\\begin{align*}\n",
    "\\boldsymbol{X}\\boldsymbol{A} &= \\boldsymbol{Y}\\\\ \n",
    "\\therefore \\boldsymbol{A} &= \\boldsymbol{X}^{-1} \\boldsymbol{Y}\\\\\n",
    "\\end{align*}\n",
    "$$"
   ]
  },
  {
   "cell_type": "markdown",
   "metadata": {},
   "source": [
    "## Worked Example - Cepheid Variables"
   ]
  },
  {
   "cell_type": "markdown",
   "metadata": {},
   "source": [
    "Let's return to our previous example of the Cepheid variables..."
   ]
  },
  {
   "cell_type": "markdown",
   "metadata": {},
   "source": [
    "## Arbitrarily Many Variables"
   ]
  },
  {
   "cell_type": "markdown",
   "metadata": {},
   "source": [
    "Consider a linear functional relation between measurable variables $x_1$, $x_2$, $x_3$, $\\dots$, $x_m$ and $y$:\n",
    "\n",
    "$$\n",
    "\\begin{align*}\n",
    "y   &= a_0 + a_1 x_1 + a_2 x_2 + \\dots + a_m x_m\\\\\n",
    "    &= a_0 + \\sum_{j = 1}^m a_j x_j\\\\\n",
    "\\end{align*}\n",
    "$$\n",
    "\n",
    "where $a_0$, $a_1$, $\\dots$ and $a_m$ are unknown constants.\n",
    "\n",
    "Suppose we have a data set of measured $(x_{1i}, x_{2i}, \\dots, x_{mi}, y_i)$ values for $i = 1, 2, 3, \\dots, N$. As before, we assume that the dispersion in our data from the functional relation is due to error in the $y_i$ data points only. Therefore we can write the relation between our data points as:\n",
    "\n",
    "$$\n",
    "y_i + \\epsilon_i = a_0 + \\sum_{j = 1}^m a_j x_{ji}\n",
    "$$"
   ]
  },
  {
   "cell_type": "markdown",
   "metadata": {},
   "source": [
    "The sum of errors squared can thus be written as:\n",
    "\n",
    "$$\n",
    "S = \\sum_{i=1}^N \\bigg(a_0 + \\bigg(\\sum_{j=1}^m a_j x_{ji} \\bigg) - y_i\\bigg)^2\n",
    "$$"
   ]
  },
  {
   "cell_type": "markdown",
   "metadata": {},
   "source": [
    "We want to find the values of $a_0$, $a_1$, $\\dots$ and $a_m$ which gives us the minimum value of $S$. Minimizing $S$ with respect to $a_0$ gives us:\n",
    "\n",
    "$$\n",
    "\\frac{\\partial S}{\\partial a_0} = 2 \\sum_{i=1}^N \\bigg(a_0 + \\bigg(\\sum_{j=1}^m a_j x_{ji} \\bigg) - y_i\\bigg) = 0\n",
    "$$\n",
    "\n",
    "Distributing the sum over $i$ amongst the terms: \n",
    "\n",
    "$$\n",
    "\\therefore N a_0 + \\bigg(\\sum_{j=1}^m a_j \\sum_{i=1}^N x_{ji} \\bigg) - \\sum_{i=1}^N y_i = 0\n",
    "$$\n",
    "\n",
    "Dividing by $N$:\n",
    "\n",
    "$$\n",
    "\\therefore a_0 + \\bigg(\\sum_{j=1}^m a_j \\frac{1}{N}\\sum_{i=1}^N x_{ji} \\bigg) - \\frac{1}{N}\\sum_{i=1}^N y_i = 0\n",
    "$$\n",
    "\n",
    "\n",
    "Using our stats notation:\n",
    "\n",
    "$$\n",
    "\\therefore a_0 + \\sum_{j=1}^m a_j \\langle{x_{j}}\\rangle = \\langle{y}\\rangle\n",
    "$$"
   ]
  },
  {
   "cell_type": "markdown",
   "metadata": {},
   "source": [
    "Now, let's minimize $S$ with respect to one of the $a_k$ for $k = 1, 2, \\dots, m$, following a similar line of algebraic manipulation as above:\n",
    "\n",
    "$$\n",
    "\\begin{align*}\n",
    "\\frac{\\partial S}{\\partial a_k} = \\sum_{i=1}^N 2 x_{ki} \\bigg(a_0 + \\bigg(\\sum_{j=1}^m a_j x_{ji} \\bigg) - y_i\\bigg) &= 0\\\\\n",
    "\\therefore a_0 \\sum_{i=1}^N x_{ki} + \\sum_{j=1}^m a_j \\bigg(\\sum_{i=1}^N x_{ki} x_{ji} \\bigg) - \\sum_{i=1}^N x_{ki} y_i &= 0\\\\\n",
    "\\therefore a_0 \\langle{x_{k}}\\rangle + \\sum_{j=1}^m a_j \\langle{x_k x_j}\\rangle &= \\langle{x_k y}\\rangle\\\\\n",
    "\\end{align*}\n",
    "$$"
   ]
  },
  {
   "cell_type": "markdown",
   "metadata": {},
   "source": [
    "Writing the results for $a_0$ and $a_k$ ($k = 1,\\dots,m$) into a system of equations, expanding the sum over $j$:\n",
    "\n",
    "\n",
    "$$\\begin{eqnarray*}\n",
    "a_0 &+& a_1 \\langle{x_1}\\rangle &+& a_2 \\langle{x_2}\\rangle  &+& \\dots &+& a_m \\langle{x_m}\\rangle &=& \\langle{y}\\rangle\\\\\n",
    "a_0 \\langle{x_{1}}\\rangle &+& a_1 \\langle{x_1~^2}\\rangle &+& a_2 \\langle{x_1 x_2}\\rangle &+& \\cdots &+& a_m \\langle{x_1 x_m}\\rangle &=&  \\langle{x_1 y}\\rangle\\\\\n",
    "a_0 \\langle{x_{2}}\\rangle &+& a_1 \\langle{x_2 x_1}\\rangle &+& a_2 \\langle{x_2~^2}\\rangle &+& \\cdots &+& a_m \\langle{x_2 x_m}\\rangle &=&  \\langle{x_2 y}\\rangle\\\\\n",
    "a_0 \\langle{x_{3}}\\rangle &+& a_1 \\langle{x_3 x_1}\\rangle &+& a_2 \\langle{x_3 x_2}\\rangle &+& \\cdots &+& a_m \\langle{x_3 x_m}\\rangle &=&  \\langle{x_3 y}\\rangle\\\\\n",
    "\\vdots ~~~~ &+& ~~~~\\vdots &+& ~~~~\\vdots &+& \\ddots &+& ~~~~\\vdots &=& ~~~\\vdots\\\\\n",
    "a_0 \\langle{x_{m}}\\rangle &+& a_1 \\langle{x_m x_1}\\rangle &+& a_2 \\langle{x_m x_2}\\rangle &+& \\cdots &+& a_m \\langle{x_m~^2}\\rangle &=&  \\langle{x_m y}\\rangle\\\\\n",
    "\\end{eqnarray*}$$"
   ]
  },
  {
   "cell_type": "markdown",
   "metadata": {},
   "source": [
    "To solve these equations numerically, we can reformulate these equations into a matrix equation:\n",
    "\n",
    "$$\n",
    "\\begin{pmatrix}\n",
    "1                     & \\langle{x_1}\\rangle      & \\langle{x_2}\\rangle      & \\cdots & \\langle{x_m}\\rangle\\\\\n",
    "\\langle{x_1}\\rangle   & \\langle{x_1~^2}\\rangle   & \\langle{x_1 x_2}\\rangle  & \\cdots & \\langle{x_1 x_m}\\rangle\\\\\n",
    "\\langle{x_2}\\rangle   & \\langle{x_2 x_1}\\rangle  & \\langle{x_2~^2}\\rangle   & \\cdots & \\langle{x_2 x_m}\\rangle\\\\\n",
    "\\vdots                & \\vdots                   & \\vdots                   & \\ddots & \\vdots\\\\\n",
    "\\langle{x_m}\\rangle   & \\langle{x_m x_1}\\rangle  & \\langle{x_m x_2}\\rangle  & \\cdots & \\langle{x_m~^2}\\rangle\\\\\n",
    "\\end{pmatrix}\n",
    "\\begin{pmatrix}\n",
    "a_0\\\\\n",
    "a_1\\\\\n",
    "a_2\\\\\n",
    "\\vdots\\\\\n",
    "a_m\\\\\n",
    "\\end{pmatrix}\n",
    "=\n",
    "\\begin{pmatrix}\n",
    "\\langle{y}\\rangle\\\\\n",
    "\\langle{x_1 y}\\rangle\\\\\n",
    "\\langle{x_2 y}\\rangle\\\\\n",
    "\\vdots\\\\\n",
    "\\langle{x_m y}\\rangle\\\\\n",
    "\\end{pmatrix}\n",
    "$$"
   ]
  },
  {
   "cell_type": "markdown",
   "metadata": {},
   "source": [
    "Notice that the left most matrix is symmetric about the diagonal, this can come in handy when computing the matrix elements. As before, this equation can be solved ..."
   ]
  }
 ],
 "metadata": {
  "kernelspec": {
   "display_name": "Python 3.7.3 64-bit ('base': conda)",
   "language": "python",
   "name": "python37364bitbaseconda97808f46a65a4f1e9dfdbcff18a07fbf"
  },
  "language_info": {
   "codemirror_mode": {
    "name": "ipython",
    "version": 3
   },
   "file_extension": ".py",
   "mimetype": "text/x-python",
   "name": "python",
   "nbconvert_exporter": "python",
   "pygments_lexer": "ipython3",
   "version": "3.7.3"
  }
 },
 "nbformat": 4,
 "nbformat_minor": 4
}
