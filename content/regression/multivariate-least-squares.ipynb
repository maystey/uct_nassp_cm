{
 "cells": [
  {
   "cell_type": "markdown",
   "metadata": {},
   "source": [
    "# Multivariate Linear Least Squares Minimization"
   ]
  },
  {
   "cell_type": "markdown",
   "metadata": {},
   "source": [
    "In [Linear Least Squares Minimization](/linear-regression/least-squares), we considered the linear functional relation between two measurable variables, $x$ and $y$:\n",
    "\n",
    "$$\n",
    "y = a_0 + a_1 x\n",
    "$$\n",
    "\n",
    "where $a_0$ and $a_1$ are unknown conditions to be determined.\n",
    "\n",
    "On this page we will look at the more generic case, where we solve the problem for an arbitrary number of variables and constants."
   ]
  },
  {
   "cell_type": "markdown",
   "metadata": {},
   "source": [
    "## Three Variables"
   ]
  },
  {
   "cell_type": "markdown",
   "metadata": {},
   "source": [
    "Let's start by solving this problem for three measurable variables: $y$, $x_1$ and $x_2$, in the linear functional relation:\n",
    "\n",
    "$$\n",
    "y = a_0 + a_1 x_1 + a_2 x_2\n",
    "$$\n",
    "\n",
    "where $a_0$, $a_1$ and $a_2$ are unknown coefficients.\n",
    "\n",
    "Consider a data set of measured $(x_{1i}, x_{2i}, y_i)$ pairs for $i = 1, 2, 3, \\dots , N$. If we attribute the dispersion of this data from the functional relation to error in the $y_i$ terms, $\\epsilon_i$, then we can relate the data points with:\n",
    "\n",
    "$$\n",
    "\\begin{align*}\n",
    "y_i + \\epsilon_i &= a_0 + a_1 x_{1 i} + a_2 x_{2 i}\\\\\n",
    "\\therefore \\epsilon_i = a_0 + a_1 x_{1 i} + a_2 x_{2 i} - y_i\\\\\n",
    "\\end{align*}\n",
    "$$\n",
    "\n",
    "The sum of errors squared is given by:\n",
    "\n",
    "$$\n",
    "\\begin{align*}\n",
    "S &= \\sum_{i = 1}^N \\epsilon_i^2 \\\\\n",
    "  &= \\sum_{i=1}^N (a_0 + a_1 x_{1i} + a_2 x_{2i} - y_i)\\\\\n",
    "\\end{align*}\n",
    "$$\n",
    "\n",
    "We want to minimize $S$ with respect to each of the constants, $a_0$, $a_1$ and $a_2$:\n",
    "\n",
    "$$\n",
    "\\frac{\\partial S}{\\partial a_0} = 2 \\sum_{i=0}^n (a_0 + a_1x_{1i} + a_2x_{2i} - y_i) = 0\n",
    "$$\n",
    ",\n",
    "$$\n",
    "\\frac{\\partial S}{\\partial a_1} = 2 \\sum_{i=0}^n (a_0 + a_1x_{1i} + a_2x_{2i} - y_i)x_{1i} = 0\n",
    "$$\n",
    "and\n",
    "$$\n",
    "\\frac{\\partial S}{\\partial a_2} = 2 \\sum_{i=0}^n (a_0 + a_1x_{1i} + a_2x_{2i} - y_i)x_{2i} = 0\n",
    "$$"
   ]
  },
  {
   "cell_type": "markdown",
   "metadata": {},
   "source": [
    "Re-arranging the above equations and using our statistical notation yields:\n",
    "\n",
    "$$\n",
    "a_0 + a_1 \\langle x_1 \\rangle + a_2 \\langle x_2 \\rangle = \\langle y \\rangle\n",
    "$$\n",
    "\n",
    ",\n",
    "\n",
    "$$\n",
    "a_0\\langle x_1\\rangle + a_1\\langle x_1^2\\rangle + a_2\\langle x_1x_2 \\rangle = \\langle x_1y \\rangle\\\\\n",
    "$$\n",
    "\n",
    "and\n",
    "\n",
    "$$\n",
    "a_0\\langle x_2\\rangle + a_1\\langle x_1x_2\\rangle + a_2\\langle x_2^2\\rangle = \\langle x_2y\\rangle\n",
    "$$\n",
    "\n",
    "This time algebraic manipulation is a lot more work, instead we shall use a matrix equation (which will serve us better in the more generic case to come). The matrix equation representation is:\n",
    "\n",
    "$$\n",
    "\\begin{pmatrix}\n",
    "  1\t\t&\\langle x_1\\rangle\t\t&\\langle{x_2}\\rangle\\\\\n",
    "  \\langle{x_1}\\rangle\t&\\langle{x_1^2}\\rangle\t\t&\\langle{x_1x_2}\\rangle\\\\\n",
    "  \\langle{x_2}\\rangle\t&\\langle{x_1x_2}\\rangle\t&\\langle{x_2^2}\\rangle\\\\\n",
    " \\end{pmatrix}\n",
    "  \\begin{pmatrix}\n",
    "  a_0\\\\\n",
    "  a_1\\\\\n",
    "  a_2\\\\\n",
    " \\end{pmatrix}\n",
    " = \n",
    " \\begin{pmatrix}\n",
    "  \\langle{y}\\rangle\\\\\n",
    "  \\langle{x_1 y}\\rangle\\\\\n",
    "  \\langle{x_2 y}\\rangle\n",
    " \\end{pmatrix}\n",
    "$$\n",
    "\n",
    "This can easily be solved numerically using:\n",
    "$$\n",
    "\\begin{align*}\n",
    "\\boldsymbol{X}\\boldsymbol{A} &= \\boldsymbol{Y}\\\\ \n",
    "\\therefore \\boldsymbol{A} &= \\boldsymbol{X}^{-1} \\boldsymbol{Y}\\\\\n",
    "\\end{align*}\n",
    "$$"
   ]
  },
  {
   "cell_type": "markdown",
   "metadata": {},
   "source": [
    "### Example - Cepheid Variables"
   ]
  },
  {
   "cell_type": "markdown",
   "metadata": {},
   "source": [
    "You now have all you need to find the unknown coefficients for the full functional relation of the magnitude ($M$), period ($P$) and color ($B-V$) of the Cepheid variables:\n",
    "\n",
    "$$\n",
    "M = a_0 + a_1 \\log P + a_2 (B - V)\n",
    "$$\n",
    "\n",
    "using the same data file as before. (You should find the values $a_0 = -2.15$ mag, $a_1 = -3.12$ mag and $a_2 = 1.49$) "
   ]
  },
  {
   "cell_type": "markdown",
   "metadata": {},
   "source": [
    "## Arbitrarily Many Variables"
   ]
  },
  {
   "cell_type": "markdown",
   "metadata": {},
   "source": [
    "Consider a linear functional relation between measurable variables $x_1$, $x_2$, $x_3$, $\\dots$, $x_m$ and $y$:\n",
    "\n",
    "$$\n",
    "\\begin{align*}\n",
    "y   &= a_0 + a_1 x_1 + a_2 x_2 + \\dots + a_m x_m\\\\\n",
    "    &= a_0 + \\sum_{j = 1}^m a_j x_j\\\\\n",
    "\\end{align*}\n",
    "$$\n",
    "\n",
    "where $a_0$, $a_1$, $\\dots$ and $a_m$ are unknown constants.\n",
    "\n",
    "Suppose we have a data set of measured $(x_{1i}, x_{2i}, \\dots, x_{mi}, y_i)$ values for $i = 1, 2, 3, \\dots, N$. As before, we assume that the dispersion in our data from the functional relation is due to error in the $y_i$ data points only. Therefore we can write the relation between our data points as:\n",
    "\n",
    "$$\n",
    "y_i + \\epsilon_i = a_0 + \\sum_{j = 1}^m a_j x_{ji}\n",
    "$$"
   ]
  },
  {
   "cell_type": "markdown",
   "metadata": {},
   "source": [
    "The sum of errors squared can thus be written as:\n",
    "\n",
    "$$\n",
    "S = \\sum_{i=1}^N \\bigg(a_0 + \\bigg(\\sum_{j=1}^m a_j x_{ji} \\bigg) - y_i\\bigg)^2\n",
    "$$"
   ]
  },
  {
   "cell_type": "markdown",
   "metadata": {},
   "source": [
    "We want to find the values of $a_0$, $a_1$, $\\dots$ and $a_m$ which gives us the minimum value of $S$. Minimizing $S$ with respect to $a_0$ gives us:\n",
    "\n",
    "$$\n",
    "\\frac{\\partial S}{\\partial a_0} = 2 \\sum_{i=1}^N \\bigg(a_0 + \\bigg(\\sum_{j=1}^m a_j x_{ji} \\bigg) - y_i\\bigg) = 0\n",
    "$$\n",
    "\n",
    "Distributing the sum over $i$ amongst the terms: \n",
    "\n",
    "$$\n",
    "\\therefore N a_0 + \\bigg(\\sum_{j=1}^m a_j \\sum_{i=1}^N x_{ji} \\bigg) - \\sum_{i=1}^N y_i = 0\n",
    "$$\n",
    "\n",
    "Dividing by $N$:\n",
    "\n",
    "$$\n",
    "\\therefore a_0 + \\bigg(\\sum_{j=1}^m a_j \\frac{1}{N}\\sum_{i=1}^N x_{ji} \\bigg) - \\frac{1}{N}\\sum_{i=1}^N y_i = 0\n",
    "$$\n",
    "\n",
    "\n",
    "Using our stats notation:\n",
    "\n",
    "$$\n",
    "\\therefore a_0 + \\sum_{j=1}^m a_j \\langle{x_{j}}\\rangle = \\langle{y}\\rangle\n",
    "$$"
   ]
  },
  {
   "cell_type": "markdown",
   "metadata": {},
   "source": [
    "Now, let's minimize $S$ with respect to one of the $a_k$ for $k = 1, 2, \\dots, m$, following a similar line of algebraic manipulation as above:\n",
    "\n",
    "$$\n",
    "\\begin{align*}\n",
    "\\frac{\\partial S}{\\partial a_k} = \\sum_{i=1}^N 2 x_{ki} \\bigg(a_0 + \\bigg(\\sum_{j=1}^m a_j x_{ji} \\bigg) - y_i\\bigg) &= 0\\\\\n",
    "\\therefore a_0 \\sum_{i=1}^N x_{ki} + \\sum_{j=1}^m a_j \\bigg(\\sum_{i=1}^N x_{ki} x_{ji} \\bigg) - \\sum_{i=1}^N x_{ki} y_i &= 0\\\\\n",
    "\\therefore a_0 \\langle{x_{k}}\\rangle + \\sum_{j=1}^m a_j \\langle{x_k x_j}\\rangle &= \\langle{x_k y}\\rangle\\\\\n",
    "\\end{align*}\n",
    "$$"
   ]
  },
  {
   "cell_type": "markdown",
   "metadata": {},
   "source": [
    "Writing the results for $a_0$ and $a_k$ ($k = 1,\\dots,m$) into a system of equations, expanding the sum over $j$:\n",
    "\n",
    "\n",
    "$$\\begin{eqnarray*}\n",
    "a_0 &+& a_1 \\langle{x_1}\\rangle &+& a_2 \\langle{x_2}\\rangle  &+& \\dots &+& a_m \\langle{x_m}\\rangle &=& \\langle{y}\\rangle\\\\\n",
    "a_0 \\langle{x_{1}}\\rangle &+& a_1 \\langle{x_1~^2}\\rangle &+& a_2 \\langle{x_1 x_2}\\rangle &+& \\cdots &+& a_m \\langle{x_1 x_m}\\rangle &=&  \\langle{x_1 y}\\rangle\\\\\n",
    "a_0 \\langle{x_{2}}\\rangle &+& a_1 \\langle{x_2 x_1}\\rangle &+& a_2 \\langle{x_2~^2}\\rangle &+& \\cdots &+& a_m \\langle{x_2 x_m}\\rangle &=&  \\langle{x_2 y}\\rangle\\\\\n",
    "a_0 \\langle{x_{3}}\\rangle &+& a_1 \\langle{x_3 x_1}\\rangle &+& a_2 \\langle{x_3 x_2}\\rangle &+& \\cdots &+& a_m \\langle{x_3 x_m}\\rangle &=&  \\langle{x_3 y}\\rangle\\\\\n",
    "\\vdots ~~~~ &+& ~~~~\\vdots &+& ~~~~\\vdots &+& \\ddots &+& ~~~~\\vdots &=& ~~~\\vdots\\\\\n",
    "a_0 \\langle{x_{m}}\\rangle &+& a_1 \\langle{x_m x_1}\\rangle &+& a_2 \\langle{x_m x_2}\\rangle &+& \\cdots &+& a_m \\langle{x_m~^2}\\rangle &=&  \\langle{x_m y}\\rangle\\\\\n",
    "\\end{eqnarray*}$$"
   ]
  },
  {
   "cell_type": "markdown",
   "metadata": {},
   "source": [
    "To solve these equations numerically, we can reformulate these equations into a matrix equation:\n",
    "\n",
    "$$\n",
    "\\begin{pmatrix}\n",
    "1                     & \\langle{x_1}\\rangle      & \\langle{x_2}\\rangle      & \\cdots & \\langle{x_m}\\rangle\\\\\n",
    "\\langle{x_1}\\rangle   & \\langle{x_1~^2}\\rangle   & \\langle{x_1 x_2}\\rangle  & \\cdots & \\langle{x_1 x_m}\\rangle\\\\\n",
    "\\langle{x_2}\\rangle   & \\langle{x_2 x_1}\\rangle  & \\langle{x_2~^2}\\rangle   & \\cdots & \\langle{x_2 x_m}\\rangle\\\\\n",
    "\\vdots                & \\vdots                   & \\vdots                   & \\ddots & \\vdots\\\\\n",
    "\\langle{x_m}\\rangle   & \\langle{x_m x_1}\\rangle  & \\langle{x_m x_2}\\rangle  & \\cdots & \\langle{x_m~^2}\\rangle\\\\\n",
    "\\end{pmatrix}\n",
    "\\begin{pmatrix}\n",
    "a_0\\\\\n",
    "a_1\\\\\n",
    "a_2\\\\\n",
    "\\vdots\\\\\n",
    "a_m\\\\\n",
    "\\end{pmatrix}\n",
    "=\n",
    "\\begin{pmatrix}\n",
    "\\langle{y}\\rangle\\\\\n",
    "\\langle{x_1 y}\\rangle\\\\\n",
    "\\langle{x_2 y}\\rangle\\\\\n",
    "\\vdots\\\\\n",
    "\\langle{x_m y}\\rangle\\\\\n",
    "\\end{pmatrix}\n",
    "$$"
   ]
  },
  {
   "cell_type": "markdown",
   "metadata": {},
   "source": [
    "Notice that the left most matrix is symmetric about the diagonal, this can come in handy when computing the matrix elements. As before, this equation can be solved for the $a_i$ by inverting the left most matrix, i.e.\n",
    "\n",
    "$$\n",
    "\\begin{align*}\n",
    "\\boldsymbol{X} \\boldsymbol{A} &= \\boldsymbol{Y}\\\\\n",
    "\\therefore \\boldsymbol{A} &= \\boldsymbol{X}^{-1} \\boldsymbol{Y}\\\\\n",
    "\\end{align*}\n",
    "$$"
   ]
  },
  {
   "cell_type": "markdown",
   "metadata": {},
   "source": [
    "### Python Implementation"
   ]
  },
  {
   "cell_type": "markdown",
   "metadata": {},
   "source": [
    "Let's work on a Python implementation of this solution. You may want to try it yourself before reading further. In order to verify our implementation we will use the Cepheid data we've used so far, though in further exercises you will be given data sets containing more variables."
   ]
  },
  {
   "cell_type": "markdown",
   "metadata": {},
   "source": [
    "We start by reading in the file. We will read the data into a 2D array. This can be achieved using the standard library as in the [**Data Files**](/file-io/data) section in the **File I/O** chapter, or using `numpy.loadtxt()` (documentation [here](https://numpy.org/doc/stable/reference/generated/numpy.loadtxt.html)). We shall use the latter as it is far more convenient: \n",
    "<!-- as in the [**File I/O**](/numpy/file-io) section from the **NumPy** chapter. -->"
   ]
  },
  {
   "cell_type": "code",
   "execution_count": 43,
   "metadata": {},
   "outputs": [],
   "source": [
    "import numpy as np\n",
    "\n",
    "## Reading in the file\n",
    "\n",
    "data = np.loadtxt('data/cepheid_data.csv', delimiter = ',', skiprows = 1)"
   ]
  },
  {
   "cell_type": "markdown",
   "metadata": {},
   "source": [
    "The `data` array contains all of the data points for $y_i, x_{1i}, x_{2i}, x_{3i}, \\dots, x_{ji}, \\dots, x_{mi}$, where $i = 1, \\dots, N$ corresponds to each row of `data`. Now, we want the data in the format:<!---, the first (or index 0) column contains the $y_i$ values and columns indexed 1 to $m$ contain the $x_{ij}$ values. --->\n",
    "\n",
    "$$\n",
    "\\begin{eqnarray*}\n",
    "\\begin{matrix}\n",
    "\\texttt{data} = [   & [ y_{1},  & x_{11}, & x_{21}, & \\cdots, & x_{m1} &], \\\\\n",
    "                    & [ y_{2},  & x_{12}, & x_{22}, & \\cdots, & x_{m2} &],\\\\\n",
    "                    & [ y_{3},  & x_{13}, & x_{23}, & \\cdots, & x_{m3} &],\\\\\n",
    "                    & [ ~\\vdots~, & \\vdots~~, & \\vdots~~, & \\ddots, & \\vdots &],\\\\\n",
    "                    & [ y_{N},  & x_{1N}, & x_{2N}, & \\cdots, & x_{mN} &]]\\\\\n",
    "\\end{matrix}\n",
    "\\end{eqnarray*}\n",
    "$$\n",
    "\n",
    "as this will make slicing it more clear. In the case of the Cepheid variable data, however, we have our \"$y$\" variable in the central column. Therefore we shall swap column 1 and 0 to better align with our desired data structure:"
   ]
  },
  {
   "cell_type": "code",
   "execution_count": 44,
   "metadata": {},
   "outputs": [],
   "source": [
    "# Swapping data[:, 0] and data[:, 1]\n",
    "# Note that this is particular to the data file we are using\n",
    "# np.copy is necessaary as arrays are not passed as values by default but as reference\n",
    "\n",
    "data[:, 0], data[:, 1] = np.copy(data[:, 1]), np.copy(data[:, 0])"
   ]
  },
  {
   "cell_type": "markdown",
   "metadata": {},
   "source": [
    "To extract the values of a single variable for each measurement, slice columns out of `data`. For example, the $y_i$ are contained in the slice `data[:, 0]`, the $x_{1i}$ are contained in `data[:, 1]`, the $x_{2i}$ are contained in `data[:, 2]`, etc."
   ]
  },
  {
   "cell_type": "markdown",
   "metadata": {},
   "source": [
    "Note that for each of the sums along the data sets ($\\sum_{i = 1}^N$), we will be summing along the columns. For example, for the quantity:\n",
    "\n",
    "$$\n",
    "\\langle x_1 \\rangle = \\frac{1}{N} \\sum_{i = 1}^N x_{1i}\n",
    "$$"
   ]
  },
  {
   "cell_type": "code",
   "execution_count": 45,
   "metadata": {},
   "outputs": [],
   "source": [
    "#Using numpy.mean to calculate the expectation value\n",
    "#Note that x1 = data[:,1]\n",
    "\n",
    "x1_mean = np.mean(data[:,1])"
   ]
  },
  {
   "cell_type": "markdown",
   "metadata": {},
   "source": [
    "To calculate an expectation value like \n",
    "\n",
    "$$\n",
    "\\langle x_1 x_2 \\rangle = \\frac{1}{N} \\sum_{i = 1}^N x_{1 i} x_{2 i}\n",
    "$$\n",
    "\n",
    "we can use:"
   ]
  },
  {
   "cell_type": "code",
   "execution_count": 46,
   "metadata": {},
   "outputs": [],
   "source": [
    "x1_x2_mean = np.mean( data[:,1] * data[:,2] )"
   ]
  },
  {
   "cell_type": "markdown",
   "metadata": {},
   "source": [
    "where we've made use of NumPy array's vectorized operation to multiply each element together before taking the mean of the results."
   ]
  },
  {
   "cell_type": "markdown",
   "metadata": {},
   "source": [
    "#### Constructing the $\\boldsymbol{X}$ Matrix"
   ]
  },
  {
   "cell_type": "markdown",
   "metadata": {},
   "source": [
    "Before we continue, let's break down the structure of the matrix:\n",
    "\n",
    "$$\n",
    "\\boldsymbol{X} = \n",
    "\\begin{pmatrix}\n",
    "1                     & \\langle{x_1}\\rangle      & \\langle{x_2}\\rangle      & \\langle{x_3}\\rangle      & \\cdots & \\langle{x_m}\\rangle\\\\\n",
    "\\langle{x_1}\\rangle   & \\langle{x_1~^2}\\rangle   & \\langle{x_1 x_2}\\rangle  & \\langle{x_1 x_3}\\rangle  & \\cdots & \\langle{x_1 x_m}\\rangle\\\\\n",
    "\\langle{x_2}\\rangle   & \\langle{x_2 x_1}\\rangle  & \\langle{x_2~^2}\\rangle   & \\langle{x_2 x_3}\\rangle  & \\cdots & \\langle{x_2 x_m}\\rangle\\\\\n",
    "\\langle{x_3}\\rangle   & \\langle{x_3 x_1}\\rangle  & \\langle{x_3 x_2}\\rangle  & \\langle{x_3~^2}\\rangle   & \\cdots & \\langle{x_3 x_m}\\rangle\\\\\n",
    "\\vdots                & \\vdots                   & \\vdots                   & \\vdots                   & \\ddots & \\vdots\\\\\n",
    "\\langle{x_m}\\rangle   & \\langle{x_m x_1}\\rangle  & \\langle{x_m x_2}\\rangle  & \\langle{x_m x_3}\\rangle  & \\cdots & \\langle{x_m~^2}\\rangle\\\\\n",
    "\\end{pmatrix}\n",
    "$$"
   ]
  },
  {
   "cell_type": "markdown",
   "metadata": {},
   "source": [
    "Let's construct an empty matrix for which we will fill in the entries as we go:"
   ]
  },
  {
   "cell_type": "code",
   "execution_count": 47,
   "metadata": {},
   "outputs": [],
   "source": [
    "var_count = data.shape[1]\n",
    "\n",
    "X = np.matrix(np.ones((var_count, var_count)))"
   ]
  },
  {
   "cell_type": "markdown",
   "metadata": {},
   "source": [
    "Note that we have created an $(m+1)\\times(m+1)$ matrix, where $m+1$ is given by the length of axis-1 of `data`."
   ]
  },
  {
   "cell_type": "markdown",
   "metadata": {},
   "source": [
    "Now, as we have noted before, $\\boldsymbol{X}$ is a symmetric matrix. That is for for row $k$ and column $l$, $\\boldsymbol{X}_{k l} = \\boldsymbol{X}_{l k}$. We only need to construct one of the triangles of the matrix, the other is obtained for free.\n",
    "\n",
    "Let's work with the upper triangle of the matrix. Here there are 3 regions with distinguishable structures\n",
    "\n",
    "1. The first row\n",
    "2. The diagonal\n",
    "3. The remaining triangle"
   ]
  },
  {
   "cell_type": "markdown",
   "metadata": {},
   "source": [
    "The first element of the matrix is just one. The remainder of the first row is simply the expectation value of each of the $x_j$:\n",
    "\n",
    "$$\n",
    "\\boldsymbol{X}_{0 0} = 1\n",
    "$$\n",
    "\n",
    "and \n",
    "\n",
    "$$\n",
    "\\boldsymbol{X}_{0 l} = \\langle{x_l}\\rangle ~~~~ \\text{where}~ l = 1, 2, \\dots, m\n",
    "$$\n",
    "\n",
    "Note that here we are indexing $\\boldsymbol{X}$ from 0 to better translate it to code:"
   ]
  },
  {
   "cell_type": "code",
   "execution_count": 48,
   "metadata": {},
   "outputs": [],
   "source": [
    "# First row and column\n",
    "# We leave the first element as is\n",
    "\n",
    "for l in range(1, var_count):\n",
    "    X[0, l] = np.mean(data[:, l])\n",
    "    \n",
    "    # Setting the values for the first column\n",
    "    # remember that X[k, l] = X[l, k]\n",
    "    X[l, 0] = X[0, l]"
   ]
  },
  {
   "cell_type": "markdown",
   "metadata": {},
   "source": [
    "Now, consider the triangle off of the diagonal. That is the region:"
   ]
  },
  {
   "cell_type": "markdown",
   "metadata": {},
   "source": [
    "$$\n",
    "\\begin{pmatrix}\n",
    "-         & -        & -                         & -                        & \\cdots  & - \\\\\n",
    "-         & -        & \\langle{x_1 x_2}\\rangle   & \\langle{x_1 x_3}\\rangle  & \\cdots  & \\langle{x_1 x_m}\\rangle\\\\\n",
    "-         & -        & -                         & \\langle{x_2 x_3}\\rangle  & \\cdots  & \\langle{x_2 x_m}\\rangle\\\\\n",
    "-         & -        & -                         & -                        & \\cdots  & \\langle{x_3 x_m}\\rangle\\\\\n",
    "\\vdots    & \\vdots   & \\vdots                    & \\vdots                   & \\ddots  & \\vdots \\\\\n",
    "-         & -        & -                         & -                        & \\cdots  & \\langle{x_m~^2}\\rangle\\\\\n",
    "\\end{pmatrix}\n",
    "$$"
   ]
  },
  {
   "cell_type": "markdown",
   "metadata": {},
   "source": [
    "This region exhibits the pattern:\n",
    "\n",
    "$$\n",
    "\\boldsymbol{X}_{k l} = \\langle{x_k x_l}\\rangle ~~~~\\text{where}~ l > k\n",
    "$$\n",
    "\n",
    "The diagonal has a fairly simple pattern, starting from (row, column) $(1,1)$:\n",
    "\n",
    "$$\n",
    "\\boldsymbol{X}_{k k} = \\langle{x_k~^2}\\rangle\n",
    "$$\n",
    "\n",
    "Note, however, that this is a special case of the rules for constructing region 3. We can therefore combine regions 2 and 3 with the rule:\n",
    "\n",
    "$$\n",
    "\\boldsymbol{X}_{k l} = \\langle{x_k x_l}\\rangle ~~~~\\text{where}~ l \\geq k\n",
    "$$\n",
    "\n",
    "In the code this becomes:"
   ]
  },
  {
   "cell_type": "code",
   "execution_count": 49,
   "metadata": {},
   "outputs": [],
   "source": [
    "# Inner matrix\n",
    "\n",
    "for k in range(1, var_count):\n",
    "    for l in range(k, var_count):\n",
    "        X[k, l] = np.mean( data[:, k] * data[:, l] )\n",
    "        \n",
    "        #Setting the value for the lower triangle\n",
    "        X[l, k] = X[k, l]"
   ]
  },
  {
   "cell_type": "markdown",
   "metadata": {},
   "source": [
    "That covers the $\\boldsymbol{X}$ matrix."
   ]
  },
  {
   "cell_type": "markdown",
   "metadata": {},
   "source": [
    "#### Constructing the $\\boldsymbol{Y}$ Matrix"
   ]
  },
  {
   "cell_type": "markdown",
   "metadata": {},
   "source": [
    "Now let's construct the matrix:\n",
    "\n",
    "$$\n",
    "\\boldsymbol{Y} =\n",
    "\\begin{pmatrix}\n",
    "\\langle{y}\\rangle\\\\\n",
    "\\langle{x_1 y}\\rangle\\\\\n",
    "\\langle{x_2 y}\\rangle\\\\\n",
    "\\vdots\\\\\n",
    "\\langle{x_m y}\\rangle\\\\\n",
    "\\end{pmatrix}\n",
    "$$"
   ]
  },
  {
   "cell_type": "markdown",
   "metadata": {},
   "source": [
    "This is fairly straight forward, with\n",
    "\n",
    "$$\n",
    "\\boldsymbol{Y}_{0, 0} = \\langle{y}\\rangle\n",
    "$$\n",
    "\n",
    "and\n",
    "\n",
    "$$\n",
    "\\boldsymbol{Y}_{k, 0} = \\langle{x_k y}\\rangle ~~~~\\text{where}~ k = 1, \\dots, m\n",
    "$$"
   ]
  },
  {
   "cell_type": "code",
   "execution_count": 50,
   "metadata": {},
   "outputs": [],
   "source": [
    "#Creating the Y column matrix:\n",
    "Y = np.matrix( np.zeros( (var_count, 1) ) )\n",
    "\n",
    "#First entry\n",
    "Y[0, 0] = np.mean(data[:,0])\n",
    "\n",
    "#The remainder of the entries\n",
    "for k in range(1, var_count):\n",
    "    Y[k, 0] = np.mean( data[:, k] * data[:, 0] )"
   ]
  },
  {
   "cell_type": "markdown",
   "metadata": {},
   "source": [
    "#### Finding Matrix $\\boldsymbol{A}$ (Or Solving For the $a_j$)"
   ]
  },
  {
   "cell_type": "markdown",
   "metadata": {},
   "source": [
    "Lastly, to solve for our $a_j$ values, we consider the matrix:\n",
    "\n",
    "$$\n",
    "\\boldsymbol{A}=\n",
    "\\begin{pmatrix}\n",
    "a_0 \\\\\n",
    "a_1\\\\\n",
    "a_2\\\\\n",
    "\\vdots\\\\\n",
    "a_m\\\\\n",
    "\\end{pmatrix}\n",
    "$$"
   ]
  },
  {
   "cell_type": "markdown",
   "metadata": {},
   "source": [
    "This fits into the matrix equation \n",
    "\n",
    "$$\n",
    "\\boldsymbol{X}\\boldsymbol{A} = \\boldsymbol{Y}\n",
    "$$\n",
    "\n",
    "where we've already constructed $\\boldsymbol{X}$ and $\\boldsymbol{Y}$. All that's left is to solve the equation be inverting $\\boldsymbol{X}$:\n",
    "\n",
    "$$\n",
    "\\boldsymbol{A} = \\boldsymbol{X}^{-1} \\boldsymbol{Y}\n",
    "$$\n",
    "\n",
    "To achieve this numerically, we simply take the inverse of `X`, `X.I`:"
   ]
  },
  {
   "cell_type": "code",
   "execution_count": 51,
   "metadata": {},
   "outputs": [
    {
     "name": "stdout",
     "output_type": "stream",
     "text": [
      "[[-2.14515885]\n",
      " [-3.11733284]\n",
      " [ 1.48566643]]\n"
     ]
    }
   ],
   "source": [
    "#Finding A:\n",
    "\n",
    "A = X.I*Y\n",
    "\n",
    "print(A)"
   ]
  },
  {
   "cell_type": "markdown",
   "metadata": {},
   "source": [
    "As you can see are results agree with the specific solution for the the case of 3 variables above."
   ]
  },
  {
   "cell_type": "markdown",
   "metadata": {},
   "source": [
    "#### Putting it all together:\n",
    "\n",
    "Let's gather all of the code cells together into a single script. We will also merge the loops together for efficiency:"
   ]
  },
  {
   "cell_type": "code",
   "execution_count": 24,
   "metadata": {},
   "outputs": [
    {
     "name": "stdout",
     "output_type": "stream",
     "text": [
      "[[-2.14515885]\n",
      " [-3.11733284]\n",
      " [ 1.48566643]]\n"
     ]
    }
   ],
   "source": [
    "import numpy as np\n",
    "\n",
    "#Reading the data\n",
    "data = np.loadtxt('data/cepheid_data.csv', delimiter = ',', skiprows = 1)\n",
    "\n",
    "# Swapping data[:, 0] and data[:, 1]\n",
    "# Note that this is particular to the data file we are using\n",
    "# np.copy is necessaary as arrays are not passed as values by default but as reference\n",
    "data[:, 0], data[:, 1] = np.copy(data[:, 1]), np.copy(data[:, 0])\n",
    "\n",
    "#Creating empty X and Y matrices\n",
    "var_count = data.shape[1]\n",
    "\n",
    "X = np.matrix(np.ones( (var_count, var_count) ))\n",
    "Y = np.matrix( np.zeros( (var_count, 1) ) )\n",
    "\n",
    "#Filling the X and Y matrices\n",
    "\n",
    "Y[0, 0] = np.mean(data[:,0])\n",
    "\n",
    "for k in range(1, var_count):\n",
    "    #First row and column of X\n",
    "    X[0, k] = np.mean(data[:, k])\n",
    "    X[k, 0] = X[0, k]\n",
    "    \n",
    "    #Y\n",
    "    Y[k, 0] = np.mean( data[:, k] * data[:, 0] )\n",
    "    \n",
    "    #Inner matrix of X\n",
    "    for l in range(k, var_count):\n",
    "        X[k, l] = np.mean( data[:, k] * data[:, l] )\n",
    "        X[l, k] = X[k, l]\n",
    "\n",
    "#Calculating A\n",
    "\n",
    "A = X.I*Y\n",
    "\n",
    "print(A)"
   ]
  },
  {
   "cell_type": "markdown",
   "metadata": {
    "tags": [
     "remove_cell"
    ]
   },
   "source": [
    "#### Visualizing the Results to Test Plausibility"
   ]
  },
  {
   "cell_type": "markdown",
   "metadata": {
    "tags": [
     "remove_cell"
    ]
   },
   "source": [
    "Now let's visualize the results. We'll only plot 2 variables at a time as anything else would call for a surface plot, which is quite tricky. Remember that the relationship between our variables is:\n",
    "\n",
    "$$\n",
    "M = a_0 + a_1 \\log P + a_2 (B - V)\n",
    "$$\n",
    "\n",
    "When we pair the variables up we shall approximate the relationships by removing the remaining variable.\n",
    "\n",
    "For our first pairing we shall express $M$ as a function of $\\log P$:\n",
    "\n",
    "$$\n",
    "M \\approx a_0 + a_1 \\log P\n",
    "$$\n",
    "\n",
    "For our second pairing we shall express $M$ as a function of $(B-V)$:\n",
    "\n",
    "$$\n",
    "M \\approx a_0 + a_2 (B-V)\n",
    "$$\n",
    "\n",
    "For our final pairing we shall express $(B - V)$ as a function of $\\log P$:\n",
    "\n",
    "$$\n",
    "(B - V) \\approx - \\frac{a_0}{a_2} - \\frac{a_1}{a_2} \\log P\n",
    "$$"
   ]
  },
  {
   "cell_type": "code",
   "execution_count": 26,
   "metadata": {
    "tags": [
     "remove_cell"
    ]
   },
   "outputs": [
    {
     "data": {
      "image/png": "[encoded data removed]",
      "text/plain": [
       "<Figure size 432x288 with 4 Axes>"
      ]
     },
     "metadata": {
      "needs_background": "light"
     },
     "output_type": "display_data"
    }
   ],
   "source": [
    "import matplotlib.pyplot as plt\n",
    "\n",
    "fig, ax = plt.subplots(2, 2, sharex = True, sharey = True)\n",
    "\n",
    "# M as function of log P\n",
    "logP_arr1 = np.linspace(data[:,1].min(), data[:,1].max())\n",
    "M_arr1 = A[0,0] + A[1,0] * logP_arr1\n",
    "\n",
    "ax[0,0].plot(data[:, 1], data[:, 0], 'ro')\n",
    "ax[0,0].plot(logP_arr1, M_arr1, 'k-')\n",
    "\n",
    "ax[0,0].set_ylabel('M')\n",
    "\n",
    "\n",
    "# M as a function of (B-V)\n",
    "B_V_arr2 = np.linspace(data[:,2].min(), data[:,2].max())\n",
    "M_arr2 = A[0,0] + A[2,0]*B_V_arr2\n",
    "\n",
    "ax[0,1].plot(data[:, 2], data[:, 0], 'ro')\n",
    "ax[0,1].plot(B_V_arr2, M_arr2, 'k-')\n",
    "\n",
    "ax[0,1].set_xlabel('B - V')\n",
    "\n",
    "# (B - V) as a function of log P\n",
    "logP_arr3 = logP_arr1\n",
    "B_V_arr3 = -A[0,0]/A[2,0] - A[1,0]/A[2,0]*logP_arr3\n",
    "\n",
    "ax[1,0].plot(data[:,1], data[:, 2], 'ro')\n",
    "ax[1,0].plot(logP_arr3, B_V_arr3, 'k-')\n",
    "\n",
    "ax[1,0].set_xlabel('logP')\n",
    "ax[1,0].set_ylabel('B - V')\n",
    "\n",
    "#Placing the legend in the 4th set of axis\n",
    "ax[1,1].plot([], 'ro', label = 'Data')\n",
    "ax[1,1].plot([], 'k-', label = 'Model')\n",
    "\n",
    "ax[1,1].legend()\n",
    "\n",
    "plt.show()"
   ]
  },
  {
   "cell_type": "code",
   "execution_count": null,
   "metadata": {},
   "outputs": [],
   "source": []
  }
 ],
 "metadata": {
  "kernelspec": {
   "display_name": "Python 3.7.3 64-bit ('base': conda)",
   "language": "python",
   "name": "python37364bitbaseconda97808f46a65a4f1e9dfdbcff18a07fbf"
  },
  "language_info": {
   "codemirror_mode": {
    "name": "ipython",
    "version": 3
   },
   "file_extension": ".py",
   "mimetype": "text/x-python",
   "name": "python",
   "nbconvert_exporter": "python",
   "pygments_lexer": "ipython3",
   "version": "3.7.3"
  }
 },
 "nbformat": 4,
 "nbformat_minor": 4
}
