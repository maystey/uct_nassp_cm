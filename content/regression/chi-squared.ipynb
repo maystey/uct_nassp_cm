{
 "cells": [
  {
   "cell_type": "markdown",
   "metadata": {},
   "source": [
    "# Chi Squared Minimization"
   ]
  },
  {
   "cell_type": "markdown",
   "metadata": {},
   "source": [
    "For the least squares minimization we assumed that one of the variables ($y$) contained error that accounted for the deviation of the data from the model we want to fit it to.\n",
    "\n",
    "This error was not quantified by the measurement, furthermore we gave each error term equal importance in the total error to be minimized. \n",
    "\n",
    "What if we had a measurement for the uncertainty of each of our $y$ measurements? Let's characterize these uncertainties using the standard deviation of each $y_i$ measurement: $\\sigma_i$.\n",
    "\n",
    "We now want to weight the contribution that each error value $\\epsilon_i$ gives to the total error by the uncertainties $\\sigma_i$. Ideally we want the model to fit within the uncertainties of the data points (or at least the fraction of the data points given by the confidence of the uncertainty). This means that we want to prioritize minimizing the error given by points with low uncertainty, or conversely we want to suppress the points with high uncertainty. To solve this we will minimize the $\\chi^2$ value of the data:\n",
    "\n",
    "$$\n",
    "\\chi^2  = \\sum_{i = 1}^{n} \\bigg( \\frac{\\epsilon_i}{\\sigma_i} \\bigg)\n",
    "$$\n",
    "\n",
    "where each error value is weighted by dividing it by the uncertainty. Note that if all of the $\\sigma_i$ where constant, we'd be dealing with least squares (the multiplicative factor will drop out in the minimization)"
   ]
  },
  {
   "cell_type": "markdown",
   "metadata": {},
   "source": [
    "## With 2 Variables"
   ]
  },
  {
   "cell_type": "markdown",
   "metadata": {},
   "source": [
    "Returning to our scenario with two variables $x$ and $y$, modeled by the functional relation:\n",
    "\n",
    "$$\n",
    "y = a_0 + a_1 x\n",
    "$$\n",
    "\n",
    "with a data set of measured $x_i$ and $y_i$ variables, with $\\sigma_i$ as the uncertainty of the $y_i$ values for $i = 1, \\dots, N$, $\\chi^2$ can now be written as:\n",
    "\n",
    "$$\n",
    "\\begin{align*}\n",
    "\\chi^2  &= \\sum_{i = 1}^{n} \\bigg( \\frac{\\epsilon_i}{\\sigma_i} \\bigg)\\\\\n",
    "        &= \\sum_{i = 1}^{n} \\bigg(\\frac{a_0 + a_1 x_i - y_i}{\\sigma_i}\\bigg)^2\\\\\n",
    "\\end{align*}\n",
    "$$"
   ]
  },
  {
   "cell_type": "markdown",
   "metadata": {},
   "source": [
    "Minimizing $\\chi^2$ with respect to $a_0$ and $a_1$, will yield:"
   ]
  },
  {
   "cell_type": "markdown",
   "metadata": {},
   "source": [
    "$$\n",
    "\\begin{align*}\n",
    "a_0 &= \\left( \\sum_{i = 1}^N \\frac{y_i}{\\sigma_i^2} \\sum_{i = 1}^N \\frac{x_i^2}{\\sigma_i^2} - \\sum_{i = 1}^N \\frac{x_i}{\\sigma_i^2} \\sum_{i = 1}^N \\frac{x_iy_i}{\\sigma_i^2} \\right)/ D\\\\\n",
    "a_1 &= \\left(\\sum_{i = 1}^N \\frac{1}{\\sigma_i^2} \\sum_{i = 1}^N \\frac{x_i y_i}{\\sigma_i^2} - \\sum_{i = 1}^N \\frac{x_i}{\\sigma_i^2} \\sum_{i = 1}^N \\frac{y_i}{\\sigma_i^2} \\right)/ D\\\\\n",
    "\\end{align*}\n",
    "$$\n",
    "\n",
    "where\n",
    "\n",
    "$$\n",
    "D = \\sum_{i = 1}^N \\frac{1}{\\sigma_i^2} \\sum_{i = 1}^N \\frac{x^2}{\\sigma_i^2} - \\left(\\sum_{i = 1}^N \\frac{x}{\\sigma_i^2}\\right)^2\n",
    "$$"
   ]
  },
  {
   "cell_type": "code",
   "execution_count": null,
   "metadata": {},
   "outputs": [],
   "source": []
  }
 ],
 "metadata": {
  "kernelspec": {
   "display_name": "Python 3.7.3 64-bit ('base': conda)",
   "language": "python",
   "name": "python37364bitbaseconda97808f46a65a4f1e9dfdbcff18a07fbf"
  },
  "language_info": {
   "codemirror_mode": {
    "name": "ipython",
    "version": 3
   },
   "file_extension": ".py",
   "mimetype": "text/x-python",
   "name": "python",
   "nbconvert_exporter": "python",
   "pygments_lexer": "ipython3",
   "version": "3.7.3"
  }
 },
 "nbformat": 4,
 "nbformat_minor": 4
}
