{
 "cells": [
  {
   "cell_type": "markdown",
   "metadata": {},
   "source": [
    "# Constants"
   ]
  },
  {
   "cell_type": "markdown",
   "metadata": {},
   "source": [
    "The `astropy.constants` module contains measured physical constants, for example the gravitational constant:"
   ]
  },
  {
   "cell_type": "code",
   "execution_count": 1,
   "metadata": {},
   "outputs": [
    {
     "name": "stdout",
     "output_type": "stream",
     "text": [
      "  Name   = Gravitational constant\n",
      "  Value  = 6.6743e-11\n",
      "  Uncertainty  = 1.5e-15\n",
      "  Unit  = m3 / (kg s2)\n",
      "  Reference = CODATA 2018\n"
     ]
    }
   ],
   "source": [
    "from astropy import constants as c\n",
    "\n",
    "print(c.G)"
   ]
  },
  {
   "cell_type": "markdown",
   "metadata": {},
   "source": [
    "These constants can be treated as quantities.\n",
    "\n",
    "See the [documentation](https://docs.astropy.org/en/stable/constants/index.html) for the list of constants available:"
   ]
  },
  {
   "cell_type": "markdown",
   "metadata": {},
   "source": [
    "| Name | Value | Unit | Description |\n",
    "| --- | --- | --- | --- |\n",
    "| G | 6.6743e-11 | m3 / (kg s2) | Gravitational constant |\n",
    "| N_A | 6.02214076e+23 | 1 / (mol) | Avogadro’s number |\n",
    "| R | 8.31446262 | J / (K mol) | Gas constant |\n",
    "| Ryd | 10973731.6 | 1 / (m) | Rydberg constant |\n",
    "| a0 | 5.29177211e-11 | m | Bohr radius |\n",
    "| alpha | 0.00729735257 | Fine-structure constant |\n",
    "| atm | 101325 | Pa | Standard atmosphere |\n",
    "| b_wien | 0.00289777196 | m K | Wien wavelength displacement law constant |\n",
    "| c | 299792458 | m / (s) | Speed of light in vacuum |\n",
    "| e | 1.60217663e-19 | C | Electron charge |\n",
    "| eps0 | 8.85418781e-12 | F/m | Vacuum electric permittivity |\n",
    "| g0 | 9.80665 | m / s2 | Standard acceleration of gravity |\n",
    "| h | 6.62607015e-34 | J s | Planck constant |\n",
    "| hbar | 1.05457182e-34 | J s | Reduced Planck constant |\n",
    "| k_B | 1.380649e-23 | J / (K) | Boltzmann constant |\n",
    "| m_e | 9.1093837e-31 | kg | Electron mass |\n",
    "| m_n | 1.6749275e-27 | kg | Neutron mass |\n",
    "| m_p | 1.67262192e-27 | kg | Proton mass |\n",
    "| mu0 | 1.25663706e-06 | N/A2 | Vacuum magnetic permeability |\n",
    "| muB | 9.27401008e-24 | J/T | Bohr magneton |\n",
    "| sigma_T | 6.65245873e-29 | m2 | Thomson scattering cross-section |\n",
    "| sigma_sb | 5.67037442e-08 | W / (K4 m2) | Stefan-Boltzmann constant |\n",
    "| u | 1.66053907e-27 | kg | Atomic mass |\n",
    "| GM_earth | 3.986004e+14 | m3 / (s2) | Nominal Earth mass parameter |\n",
    "| GM_jup | 1.2668653e+17 | m3 / (s2) | Nominal Jupiter mass parameter |\n",
    "| GM_sun | 1.3271244e+20 | m3 / (s2) | Nominal solar mass parameter |\n",
    "| L_bol0 | 3.0128e+28 | W | Luminosity for absolute bolometric magnitude 0 |\n",
    "| L_sun | 3.828e+26 | W | Nominal solar luminosity |\n",
    "| M_earth | 5.97216787e+24 | kg | Earth mass |\n",
    "| M_jup | 1.8981246e+27 | kg | Jupiter mass | \n",
    "| M_sun | 1.98840987e+30 | kg | Solar mass |\n",
    "| R_earth | 6378100 | m | Nominal Earth equatorial radius |\n",
    "| R_jup | 71492000 | m | Nominal Jupiter equatorial radius |\n",
    "| R_sun | 695700000 | m | Nominal solar radius | \n",
    "| au | 1.49597871e+11 | m | Astronomical Unit |\n",
    "| kpc | 3.08567758e+19 | m | Kiloparsec |\n",
    "| pc | 3.08567758e+16 | m | Parsec |"
   ]
  }
 ],
 "metadata": {
  "kernelspec": {
   "display_name": "Python 3.7.3 64-bit ('base': conda)",
   "language": "python",
   "name": "python37364bitbaseconda97808f46a65a4f1e9dfdbcff18a07fbf"
  },
  "language_info": {
   "codemirror_mode": {
    "name": "ipython",
    "version": 3
   },
   "file_extension": ".py",
   "mimetype": "text/x-python",
   "name": "python",
   "nbconvert_exporter": "python",
   "pygments_lexer": "ipython3",
   "version": "3.7.3"
  }
 },
 "nbformat": 4,
 "nbformat_minor": 4
}
