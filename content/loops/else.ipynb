{
 "cells": [
  {
   "cell_type": "markdown",
   "metadata": {},
   "source": [
    "# Else Statement and Loops\n",
    "\n",
    "You can use an else statement after a `for` or `while` loop. The code in this `else` statement is executed if the loop completed without being terminated."
   ]
  },
  {
   "cell_type": "code",
   "execution_count": 3,
   "metadata": {},
   "outputs": [
    {
     "name": "stdout",
     "output_type": "stream",
     "text": [
      "0\n",
      "1\n",
      "2\n",
      "Loop completed\n"
     ]
    }
   ],
   "source": [
    "for i in range(3):\n",
    "    print(i)\n",
    "else:\n",
    "    print('Loop completed')"
   ]
  },
  {
   "cell_type": "markdown",
   "metadata": {},
   "source": [
    "The only time the `else` part will not be executed is if you `break` out of a loop:"
   ]
  },
  {
   "cell_type": "code",
   "execution_count": 4,
   "metadata": {},
   "outputs": [
    {
     "name": "stdout",
     "output_type": "stream",
     "text": [
      "0\n",
      "1\n",
      "2\n",
      "3\n"
     ]
    }
   ],
   "source": [
    "for i in range(5):\n",
    "    print(i)\n",
    "    \n",
    "    if i == 3:\n",
    "        break\n",
    "else:\n",
    "    print('Loop completed')"
   ]
  },
  {
   "cell_type": "markdown",
   "metadata": {},
   "source": [
    "### Worked Example\n",
    "\n",
    "A common use for this structure is if you're searching for an object. Consider this example where we are trying to find a `'fish'` in a list:"
   ]
  },
  {
   "cell_type": "code",
   "execution_count": 5,
   "metadata": {},
   "outputs": [
    {
     "name": "stdout",
     "output_type": "stream",
     "text": [
      "We did not catch a fish.\n"
     ]
    }
   ],
   "source": [
    "animals = ['zebra', 'cow', 'crow', 'eel']\n",
    "\n",
    "for animal in animals:\n",
    "    if animal == 'fish':\n",
    "        print('We caught a fish!')\n",
    "        break\n",
    "else:\n",
    "    print('We did not catch a fish.')"
   ]
  },
  {
   "cell_type": "code",
   "execution_count": 6,
   "metadata": {},
   "outputs": [
    {
     "name": "stdout",
     "output_type": "stream",
     "text": [
      "We caught a fish!\n"
     ]
    }
   ],
   "source": [
    "animals = ['human', 'bear', 'fish', 'squid', 'crab']\n",
    "\n",
    "for animal in animals:\n",
    "    if animal == 'fish':\n",
    "        print('We caught a fish!')\n",
    "        break\n",
    "else:\n",
    "    print('We did not catch a fish.')"
   ]
  },
  {
   "cell_type": "markdown",
   "metadata": {},
   "source": [
    "Of course, finding a particular object in a list is quicker and simpler using:"
   ]
  },
  {
   "cell_type": "code",
   "execution_count": 7,
   "metadata": {},
   "outputs": [
    {
     "name": "stdout",
     "output_type": "stream",
     "text": [
      "We caught a fish!\n"
     ]
    }
   ],
   "source": [
    "animals = animals = ['human', 'bear', 'fish', 'squid', 'crab']\n",
    "\n",
    "if 'fish' in animals:\n",
    "    print('We caught a fish!')\n",
    "else:\n",
    "    print('We did not catch a fish.')"
   ]
  },
  {
   "cell_type": "markdown",
   "metadata": {},
   "source": [
    "but for more complex procedures this may not be an option."
   ]
  }
 ],
 "metadata": {
  "kernelspec": {
   "display_name": "Python 3",
   "language": "python",
   "name": "python3"
  },
  "language_info": {
   "codemirror_mode": {
    "name": "ipython",
    "version": 3
   },
   "file_extension": ".py",
   "mimetype": "text/x-python",
   "name": "python",
   "nbconvert_exporter": "python",
   "pygments_lexer": "ipython3",
   "version": "3.7.3"
  }
 },
 "nbformat": 4,
 "nbformat_minor": 4
}
