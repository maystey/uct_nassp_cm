{
 "cells": [
  {
   "cell_type": "markdown",
   "metadata": {},
   "source": [
    "# Simple Plots with Pyplot"
   ]
  },
  {
   "cell_type": "markdown",
   "metadata": {},
   "source": [
    "The Pyplot module of Matplotlib acts as an interface to the Matplotlib package. This gives us access to a library of 2-dimensional plotting functions. The standard way of importing Pyplot is:"
   ]
  },
  {
   "cell_type": "code",
   "execution_count": 1,
   "metadata": {},
   "outputs": [],
   "source": [
    "import matplotlib.pyplot as plt"
   ]
  },
  {
   "cell_type": "markdown",
   "metadata": {},
   "source": [
    "As a first example, let's plot the line $y = x^2$:"
   ]
  },
  {
   "cell_type": "code",
   "execution_count": 6,
   "metadata": {},
   "outputs": [
    {
     "data": {
      "image/png": "[encoded data removed]",
      "text/plain": [
       "<Figure size 432x288 with 1 Axes>"
      ]
     },
     "metadata": {
      "needs_background": "light"
     },
     "output_type": "display_data"
    }
   ],
   "source": [
    "import numpy as np\n",
    "import matplotlib.pyplot as plt\n",
    "\n",
    "x = np.linspace(0, 2, 100)\n",
    "y = x*x\n",
    "\n",
    "plt.plot(x, y) #Plots a line\n",
    "\n",
    "plt.xlabel('x') #x-axis label\n",
    "plt.ylabel('y')\n",
    "\n",
    "plt.show() #Visualizes the plot"
   ]
  },
  {
   "cell_type": "markdown",
   "metadata": {},
   "source": [
    "where:\n",
    "\n",
    "- `plt.plot()` plots a straight line, which is one of the many types of plots available in the module (see the [Thumbnail Gallery](https://matplotlib.org/gallery.html) for more).\n",
    "- The `plt.xlabel()` and 'plt.ylabel()` functions set the labels for the x and y-axis of the plot to the given arguments respectively.\n",
    "- `plt.show()` shows the current figure (discussed in the following section). In the regular Python environment this function will pause the code and bring up a window containing the plot. Elements of the plot can be edited in this window and this plot can be saved. Closing the window resumes the script. \n",
    "\n",
    "    In Jupyter Notebook, running `plt.show()` will display the plot in the cell output and will not pause the script."
   ]
  },
  {
   "cell_type": "markdown",
   "metadata": {},
   "source": [
    "## Figures"
   ]
  },
  {
   "cell_type": "markdown",
   "metadata": {},
   "source": [
    "A Matplotlib figure contains plot elements, for example a set of (or multiple sets of) axis, a title etc. Figures can be created using\n",
    "\n",
    "```python\n",
    "fig = plt.figure()\n",
    "```\n",
    "\n",
    "When using `plt.plot()` Matplotlib will automatically add the plot to the last figure that was defined. Refer to the [Subplots](/matplotlib/subplots) page for accessing the figure axis directly.\n",
    "\n",
    "If you want to specify the dimensions of the plot, you can create a figure with the first positional or keyword argument:\n",
    "\n",
    "```python\n",
    "fig = plt.figure(figsize = (width, height) )\n",
    "```\n",
    "\n",
    "where `figsize` (a 2-tuple of width and height) is in inches.\n",
    "\n",
    "For more information on the figure class see the [documentation](https://matplotlib.org/api/_as_gen/matplotlib.figure.Figure.html#matplotlib.figure.Figure)."
   ]
  },
  {
   "cell_type": "markdown",
   "metadata": {},
   "source": [
    "### Saving Figures"
   ]
  },
  {
   "cell_type": "markdown",
   "metadata": {},
   "source": [
    "You can save figures using the\n",
    "\n",
    "```python\n",
    "plt.savefig(filename)\n",
    "```\n",
    "\n",
    "function, where `filename` is the filename of the image to be saved. If a file extension is specified, the image will be saved using that type, the default type is a PNG.\n",
    "\n",
    "This will save the current figure, if you want to save a particular figure then you can use `fig.savefig()`.\n",
    "\n",
    "If you're not specifying the figure, make sure to save **before** you call `plt.show()` as this will clear the figure."
   ]
  },
  {
   "cell_type": "markdown",
   "metadata": {},
   "source": [
    "## Line Color"
   ]
  },
  {
   "cell_type": "markdown",
   "metadata": {},
   "source": [
    "You can specify the line color for the plot using either a positional (single letter) argument:\n",
    "\n",
    "```python\n",
    "plt.plot(x, y, 'r')\n",
    "```\n",
    "\n",
    "or using a keyword argument:\n",
    "\n",
    "```python\n",
    "plt.plot(x, y, color = 'red')\n",
    "```\n",
    "\n",
    "where the examples above both produce red lines, for example:"
   ]
  },
  {
   "cell_type": "code",
   "execution_count": 7,
   "metadata": {},
   "outputs": [
    {
     "data": {
      "image/png": "[encoded data removed]",
      "text/plain": [
       "<Figure size 432x288 with 1 Axes>"
      ]
     },
     "metadata": {
      "needs_background": "light"
     },
     "output_type": "display_data"
    }
   ],
   "source": [
    "x = np.linspace(0, 2, 100)\n",
    "y = x*x\n",
    "\n",
    "plt.plot(x, y, 'r')\n",
    "\n",
    "plt.xlabel('x')\n",
    "plt.ylabel('y')\n",
    "\n",
    "plt.show()"
   ]
  },
  {
   "cell_type": "markdown",
   "metadata": {},
   "source": [
    "The list of colors, as found in the Matplotlib [documentation](https://matplotlib.org/2.0.2/api/colors_api.html), is:\n",
    "\n",
    "| Single Letter | Full Name |\n",
    "| --- | --- |\n",
    "| b | blue |\n",
    "| g | green |\n",
    "| r | red |\n",
    "| c | cyan |\n",
    "| m | magenta |\n",
    "| y | yellow |\n",
    "| k | black |\n",
    "| w | white |\n",
    "\n",
    "Shades of gray can be given as a string representation of a float between 0 and 1, for example:\n",
    "\n",
    "```python\n",
    "color = '0.75'\n",
    "```"
   ]
  },
  {
   "cell_type": "markdown",
   "metadata": {},
   "source": [
    "## Line Style"
   ]
  },
  {
   "cell_type": "markdown",
   "metadata": {},
   "source": [
    "Similar to the color of the plot, you can also set the line style, either as a positional argument:\n",
    "\n",
    "or as a keyword argument:\n",
    "\n",
    "Note that both the color and line style can be combined when set using the positional argument."
   ]
  },
  {
   "cell_type": "markdown",
   "metadata": {},
   "source": [
    "The reference for the lines given below is taken from the [documentation](https://matplotlib.org/gallery/lines_bars_and_markers/line_styles_reference.html):"
   ]
  },
  {
   "cell_type": "code",
   "execution_count": 2,
   "metadata": {
    "tags": [
     "remove_input"
    ]
   },
   "outputs": [
    {
     "data": {
      "image/png": "[encoded data removed]",
      "text/plain": [
       "<Figure size 432x288 with 1 Axes>"
      ]
     },
     "metadata": {
      "needs_background": "light"
     },
     "output_type": "display_data"
    }
   ],
   "source": [
    "import numpy as np\n",
    "import matplotlib.pyplot as plt\n",
    "\n",
    "\n",
    "color = 'cornflowerblue'\n",
    "points = np.ones(5)  # Draw 5 points for each line\n",
    "text_style = dict(horizontalalignment='right', verticalalignment='center',\n",
    "                  fontsize=12, fontdict={'family': 'monospace'})\n",
    "\n",
    "\n",
    "def format_axes(ax):\n",
    "    ax.margins(0.2)\n",
    "    ax.set_axis_off()\n",
    "\n",
    "\n",
    "# Plot all line styles.\n",
    "fig, ax = plt.subplots()\n",
    "\n",
    "linestyles = ['-', '--', '-.', ':']\n",
    "for y, linestyle in enumerate(linestyles):\n",
    "    ax.text(-0.1, y, repr(linestyle), **text_style)\n",
    "    ax.plot(y * points, linestyle=linestyle, color=color, linewidth=3)\n",
    "    format_axes(ax)\n",
    "    ax.set_title('line styles')\n",
    "\n",
    "plt.show()"
   ]
  },
  {
   "cell_type": "markdown",
   "metadata": {},
   "source": [
    "## Marker"
   ]
  },
  {
   "cell_type": "markdown",
   "metadata": {},
   "source": [
    "In addition to line style and color, you can specify a marker. The markers are placed at each data point. The possible markers are listed in the [documentation](https://matplotlib.org/3.2.1/api/markers_api.html), as an example let's plot the data points as circles (`'o'` in the positional argument, or `marker = 'o'` as a keyword argument):"
   ]
  },
  {
   "cell_type": "code",
   "execution_count": 9,
   "metadata": {},
   "outputs": [
    {
     "data": {
      "image/png": "[encoded data removed]",
      "text/plain": [
       "<Figure size 432x288 with 1 Axes>"
      ]
     },
     "metadata": {
      "needs_background": "light"
     },
     "output_type": "display_data"
    }
   ],
   "source": [
    "x = np.linspace(0, 2, 10)\n",
    "y = x*x\n",
    "\n",
    "plt.plot(x, y, 'ro')\n",
    "\n",
    "plt.xlabel('x')\n",
    "plt.ylabel('y')\n",
    "\n",
    "plt.show()"
   ]
  },
  {
   "cell_type": "markdown",
   "metadata": {},
   "source": [
    "As you can see the line style is set to `'None'` by default if a marker is specified without a line style."
   ]
  },
  {
   "cell_type": "markdown",
   "metadata": {},
   "source": [
    "## Legends"
   ]
  },
  {
   "cell_type": "markdown",
   "metadata": {},
   "source": [
    "You can add a legend to your figure by labeling the plots with the keyword argument `label` and calling the `plt.legend()` function:"
   ]
  },
  {
   "cell_type": "code",
   "execution_count": 10,
   "metadata": {},
   "outputs": [
    {
     "data": {
      "image/png": "[encoded data removed]",
      "text/plain": [
       "<Figure size 432x288 with 1 Axes>"
      ]
     },
     "metadata": {
      "needs_background": "light"
     },
     "output_type": "display_data"
    }
   ],
   "source": [
    "x = np.linspace(0, 2, 100)\n",
    "\n",
    "plt.plot(x, x*x, 'r', label = 'x^2')\n",
    "\n",
    "plt.plot(x, np.sqrt(x), 'b', label = 'x^0.5')\n",
    "\n",
    "plt.xlabel('x')\n",
    "plt.ylabel('y')\n",
    "\n",
    "plt.legend()\n",
    "\n",
    "plt.show()"
   ]
  }
 ],
 "metadata": {
  "kernelspec": {
   "display_name": "Python 3.7.3 64-bit ('base': conda)",
   "language": "python",
   "name": "python37364bitbaseconda97808f46a65a4f1e9dfdbcff18a07fbf"
  },
  "language_info": {
   "codemirror_mode": {
    "name": "ipython",
    "version": 3
   },
   "file_extension": ".py",
   "mimetype": "text/x-python",
   "name": "python",
   "nbconvert_exporter": "python",
   "pygments_lexer": "ipython3",
   "version": "3.7.3"
  }
 },
 "nbformat": 4,
 "nbformat_minor": 4
}
