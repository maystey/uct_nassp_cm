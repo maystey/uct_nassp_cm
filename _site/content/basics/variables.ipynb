{
 "cells": [
  {
   "cell_type": "markdown",
   "metadata": {},
   "source": [
    "# Variables\n",
    "\n",
    "Python receives information by means of variables. A variable is a dedicated piece of computer memory that holds some information. For example, "
   ]
  },
  {
   "cell_type": "code",
   "execution_count": 2,
   "metadata": {},
   "outputs": [],
   "source": [
    "a = 5"
   ]
  },
  {
   "cell_type": "markdown",
   "metadata": {},
   "source": [
    "tells python to assign 5 (an integer number) to the variable with the variable name `a`. Note that the `=` here is used for variable assignment, it does not have the same meaning as the mathematical symbol (\"assign-variable-to\" rather than \"is-equal-to\").\n",
    "\n",
    "If we wanted to access the value that our variable `a` holds, we can refer to it by it's name. For example, if we want to print the value to terminal:"
   ]
  },
  {
   "cell_type": "code",
   "execution_count": 3,
   "metadata": {},
   "outputs": [
    {
     "name": "stdout",
     "output_type": "stream",
     "text": [
      "5\n"
     ]
    }
   ],
   "source": [
    "print(a)"
   ]
  },
  {
   "cell_type": "markdown",
   "metadata": {},
   "source": [
    "## Data Types\n",
    "The information stored in memory needs to be interprated if it's to be of any use to us. To achieve this Python (and many other programming languages) uses variable types. \n",
    "\n",
    "In the example above we used an integer or `int` type. In order to check what type a variable has, we can use the `type()` function:"
   ]
  },
  {
   "cell_type": "code",
   "execution_count": 4,
   "metadata": {},
   "outputs": [
    {
     "name": "stdout",
     "output_type": "stream",
     "text": [
      "<class 'int'>\n"
     ]
    }
   ],
   "source": [
    "print(type(a))"
   ]
  },
  {
   "cell_type": "markdown",
   "metadata": {},
   "source": [
    "The other basic variable types we will be working with are floating point numbers and strings.\n",
    "\n",
    "Floating point numbers (or `float`) are numbers with decimal parts, for example:"
   ]
  },
  {
   "cell_type": "code",
   "execution_count": 6,
   "metadata": {},
   "outputs": [
    {
     "name": "stdout",
     "output_type": "stream",
     "text": [
      "<class 'float'>\n"
     ]
    }
   ],
   "source": [
    "print(type(5.2))"
   ]
  },
  {
   "cell_type": "markdown",
   "metadata": {},
   "source": [
    "Strings (or `str`), are a collection of unicode characters (letters, numbers, symbols, ect). Basically, the contents of any text file can be seen as a string. Strings are represented using parenthesis:"
   ]
  },
  {
   "cell_type": "code",
   "execution_count": 7,
   "metadata": {},
   "outputs": [
    {
     "name": "stdout",
     "output_type": "stream",
     "text": [
      "<class 'str'>\n"
     ]
    }
   ],
   "source": [
    "print(type('This is a string.'))"
   ]
  },
  {
   "cell_type": "markdown",
   "metadata": {},
   "source": [
    "You are not limited to single quotes. For single line strings you can use double quotes as well:"
   ]
  },
  {
   "cell_type": "code",
   "execution_count": 8,
   "metadata": {},
   "outputs": [
    {
     "data": {
      "text/plain": [
       "\"String using double qotes, ' doesn't break the string\""
      ]
     },
     "execution_count": 8,
     "metadata": {},
     "output_type": "execute_result"
    }
   ],
   "source": [
    "print('String using single quotes, \" does not break the string.')\n",
    "print(\"String using double quotes, ' doesn't break the string.\")"
   ]
  },
  {
   "cell_type": "markdown",
   "metadata": {},
   "source": [
    "For strings containing line breaks, you can use `'''` or `\"\"\"`:"
   ]
  },
  {
   "cell_type": "code",
   "execution_count": 2,
   "metadata": {},
   "outputs": [
    {
     "name": "stdout",
     "output_type": "stream",
     "text": [
      "String with a\n",
      "line break\n",
      "Another string with a\n",
      "line break\n"
     ]
    }
   ],
   "source": [
    "print(\n",
    "'''String with a\n",
    "line break'''\n",
    ")\n",
    "\n",
    "print(\n",
    "\"\"\"Another string with a\n",
    "line break\"\"\"\n",
    ")"
   ]
  },
  {
   "cell_type": "markdown",
   "metadata": {},
   "source": [
    "You could also insert line breaks using a the special character `'\\n` <!--- , but we will discuss this later. #I'm not sure if I got to this -->"
   ]
  },
  {
   "cell_type": "markdown",
   "metadata": {},
   "source": [
    "## Variable Names\n",
    "So far we have been using single letters (`a`, `b`, `c`, `d`, ...) as variable names, but this approach can be confusing for long segments of codes. Variable names should be as clear and descriptive as possible (describing what they are used for), while still being short enough to type out efficiently.\n",
    "\n",
    "To this end we should delve into some of the restrictions on the character sequences that make up variable names:\n",
    "* The characters must all be letters, digits, or underscores (\\_) , and must start with a letter. In particular, punctuation and blanks are not allowed.\n",
    "* There are some words that are reserved for special use in Python. You may not use these words as your own identifiers. This is the full list:"
   ]
  },
  {
   "cell_type": "markdown",
   "metadata": {},
   "source": [
    "<table>\n",
    "    <tr>\n",
    "      <td><code>False</code></td>\n",
    "      <td><code>class</code></td>\n",
    "      <td><code>finally</code></td>\n",
    "      <td><code>is</code></td>\n",
    "      <td><code>return</code></td>\n",
    "    </tr>\n",
    "    <tr>\n",
    "        <td><code>None</code></td>\n",
    "        <td><code>continue</code></td>\n",
    "        <td><code>for</code></td>\n",
    "        <td><code>lambda</code></td>\n",
    "        <td><code>try</code></td>\n",
    "    </tr>\n",
    "    <tr>\n",
    "        <td><code>True</code></td>\n",
    "        <td><code>def</code></td>\n",
    "        <td><code>from</code></td>\n",
    "        <td><code>nonlocal</code></td>\n",
    "        <td><code>while</code></td>\n",
    "    </tr>\n",
    "    <tr>\n",
    "        <td><code>and</code></td>\n",
    "        <td><code>del</code></td>\n",
    "        <td><code>global</code></td>\n",
    "        <td><code>not</code></td>\n",
    "        <td><code>with</code></td>\n",
    "    </tr>  \n",
    "    <tr>\n",
    "        <td><code>as</code></td>\n",
    "        <td><code>if</code></td>\n",
    "        <td><code>elif</code></td>\n",
    "        <td><code>or</code></td>\n",
    "        <td><code>yield</code></td>\n",
    "    </tr>\n",
    "    <tr>\n",
    "        <td><code>assert</code></td>\n",
    "        <td><code>else</code></td>\n",
    "        <td><code>import</code></td>\n",
    "        <td><code>pass</code></td>\n",
    "        <td></td>\n",
    "    </tr>\n",
    "    <tr>\n",
    "        <td><code>break</code></td>\n",
    "        <td><code>except</code></td>\n",
    "        <td><code>in</code></td>\n",
    "        <td><code>raise</code></td>\n",
    "        <td></td>\n",
    "    </tr> \n",
    "</table> "
   ]
  },
  {
   "cell_type": "markdown",
   "metadata": {},
   "source": [
    "* Python is case sensitive: The variable names `last`, `LAST`, and `LaSt` are all different.\n",
    "\n",
    "Now, you may want to use a variable that is more than one word long, for example `price at opening`, but blanks are illegal! One poor option is just leaving out the blanks, like `priceatopening`. Then it may be hard to figure out where words split. Two practical options are:\n",
    "*  Underscore separated: putting underscores (which are legal) in place of the blanks, like `price_at_opening`.\n",
    "*  Using camel-case: omitting spaces and using all lowercase, except capitalizing all words after the first, like `priceAtOpening`.\n",
    "* Using Pascal-case: similar to camel-case but capitalising the first word, `PriceAtOpening`.\n",
    "\n",
    "The standard in Python is to use underscore seperations for variable and function names."
   ]
  },
  {
   "cell_type": "markdown",
   "metadata": {},
   "source": [
    "## Assigning Variables to other Variables\n",
    "\n",
    "You can assign the value of one variable to another:"
   ]
  },
  {
   "cell_type": "code",
   "execution_count": 2,
   "metadata": {},
   "outputs": [
    {
     "name": "stdout",
     "output_type": "stream",
     "text": [
      "Variable 1 is 3\n",
      "Variable 2 is 3\n"
     ]
    }
   ],
   "source": [
    "var1 = 3\n",
    "var2 = var1\n",
    "\n",
    "print('Variable 1 is', var1)\n",
    "print('Variable 2 is', var2)"
   ]
  },
  {
   "cell_type": "markdown",
   "metadata": {},
   "source": [
    "When you assign assign a variable using another variable, in most cases it is only the value of the variable that is assigned:"
   ]
  },
  {
   "cell_type": "code",
   "execution_count": 3,
   "metadata": {},
   "outputs": [
    {
     "name": "stdout",
     "output_type": "stream",
     "text": [
      "Variable 1 is 3\n",
      "Variable 2 is 3\n",
      "\n",
      "Variable 1 is 2\n",
      "Variable 2 is 3\n"
     ]
    }
   ],
   "source": [
    "var1 = 3\n",
    "var2 = var1\n",
    "\n",
    "print('Variable 1 is', var1)\n",
    "print('Variable 2 is', var2)\n",
    "\n",
    "var1 = 2\n",
    "\n",
    "print('')\n",
    "print('Variable 1 is', var1)\n",
    "print('Variable 2 is', var2)"
   ]
  },
  {
   "cell_type": "markdown",
   "metadata": {},
   "source": [
    "Notice how, even though we change the value of `var1`, the value of `var2` remains the same."
   ]
  },
  {
   "cell_type": "code",
   "execution_count": null,
   "metadata": {},
   "outputs": [],
   "source": []
  }
 ],
 "metadata": {
  "kernelspec": {
   "display_name": "Python 3",
   "language": "python",
   "name": "python3"
  },
  "language_info": {
   "codemirror_mode": {
    "name": "ipython",
    "version": 3
   },
   "file_extension": ".py",
   "mimetype": "text/x-python",
   "name": "python",
   "nbconvert_exporter": "python",
   "pygments_lexer": "ipython3",
   "version": "3.7.3"
  }
 },
 "nbformat": 4,
 "nbformat_minor": 4
}
