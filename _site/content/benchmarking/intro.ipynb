{
 "cells": [
  {
   "cell_type": "markdown",
   "metadata": {},
   "source": [
    "# Benchmarking"
   ]
  },
  {
   "cell_type": "markdown",
   "metadata": {},
   "source": [
    "In the computation industry, benchmarking is an umbrella term for comparing the performance of different hardware, software solutions, program segments, algorithms, etc..\n",
    "\n",
    "For hardware and software solutions, benchmarking is often used to draw comparisons with competing solutions. In developing a program or software solution benchmarking can also be used to make decisions, either to decide between two different solutions to the same problem, or to find which parts of the program need optimization (there's no use spending time to optimize a part of the program that has no impact on performance).\n",
    "\n",
    "There are many aspects of performance that one can monitor. For example, when benchmarking software or code, one could monitor the memory use, execution time, etc.\n",
    "\n",
    "In this course we will be focusing on simple benchmarks of our Python code. In particular we will be looking at the time taken for code segments to execute."
   ]
  },
  {
   "cell_type": "code",
   "execution_count": null,
   "metadata": {},
   "outputs": [],
   "source": []
  }
 ],
 "metadata": {
  "kernelspec": {
   "display_name": "Python 3",
   "language": "python",
   "name": "python3"
  },
  "language_info": {
   "codemirror_mode": {
    "name": "ipython",
    "version": 3
   },
   "file_extension": ".py",
   "mimetype": "text/x-python",
   "name": "python",
   "nbconvert_exporter": "python",
   "pygments_lexer": "ipython3",
   "version": "3.7.3"
  }
 },
 "nbformat": 4,
 "nbformat_minor": 4
}
