{
 "cells": [
  {
   "cell_type": "markdown",
   "metadata": {},
   "source": [
    "# Measurement and Uncertainty\n",
    "\n",
    "The following document is a summary of some key, relevant points from the UCT Physics laboratory manual {% cite phy-gum %}."
   ]
  },
  {
   "cell_type": "markdown",
   "metadata": {},
   "source": [
    "## Measurements\n",
    "When taking a physical measurement of a quantity (the **measurand**), the value you acquire is only a best approximation of the \"true value\" of the quantity (if that even exists for the given measurement). \n",
    "\n",
    "Many factors from the precision of your apparatus to random or systematic noise "
   ]
  },
  {
   "cell_type": "markdown",
   "metadata": {},
   "source": [
    "## Sources of Uncertainty in Computing\n",
    "\n",
    "Seeing as we are working with computers, we don't have measurement apparatus to worry about. There are, however, other sources to consider.\n",
    "\n",
    "### Precision of Data Values\n",
    "Floating point numbers can only approximately represent a real numbers and have a finite precision due to having finite memory available.\n",
    "\n",
    "Although we generally won't have to worry about the precision of our floats in this course. Be careful when preforming numerical operations (especially division) that intermediate values don't become too small. <!--- ellaborate: enlarge inaccuracies by multiplying etc -->\n",
    "\n",
    "### Background Processes\n",
    "If you are using a personal computer with an operating system there are always going to be background processes being preformed. These processes (however light they may be) are competing with your programs for resources.\n",
    "\n",
    "This is especially relevant when you are running benchmarks for your code (time it takes to complete execution, memory use, etc.).\n",
    "\n",
    "This form of uncertainty can be quite noisy and thus treated as a spread <!--- Type A -->\n",
    "\n",
    "### Error or Approximations in Numerical Solutions\n",
    "Every numerical solution or simulation contains some approximation. This leads to uncertainty in the results you've acquired. How you handle this uncertainty depends on the particular method in question."
   ]
  },
  {
   "cell_type": "markdown",
   "metadata": {},
   "source": [
    "## Type A Uncertainty\n",
    "Sometimes you will have a data set of repeated measurements that have unavoidable dispersion. In many cases, given enough data points, the data will appear to follow a Gaussian probability distribution function (histogram the data if you're not sure). \n",
    "\n",
    "The Gaussian probability distribution is given by:\n",
    "<!--- The exponent is a little small -->\n",
    "$$\n",
    "p(x) = \\frac{1}{\\sigma \\sqrt{2 \\pi}}e^{-\\frac{1}{2}(\\frac{x - \\bar{x}}{\\sigma})^2}\n",
    "$$\n",
    "\n",
    "where $x$ is the possible value of a data point, $\\bar{x}$ is first moment of the distribution (approximated by the arithmetic mean of the data), $\\sigma^2$ is the second moment of the distribution (approximated by the variance of the data).\n"
   ]
  },
  {
   "cell_type": "code",
   "execution_count": null,
   "metadata": {
    "tags": [
     "hide_input"
    ]
   },
   "outputs": [],
   "source": [
    "##Plot of a Gaussian (hide input)"
   ]
  },
  {
   "cell_type": "markdown",
   "metadata": {},
   "source": [
    "Best value is arithmetic mean $\\bar{x}$:\n",
    "\n",
    "$$\n",
    "\\bar{x} = \\frac{1}{N} \\sum_{i=1}^{N} x_i\n",
    "$$\n",
    "\n",
    "which represents the most likely \"true\" value for $x$. This, however, does not tell the full story. There is no reason to assume the mean will be the same for each data set we take. Furthermore ... pdf ... need to consider an interval.\n",
    "\n",
    "Area under pdf gives us % convidence. This interval is quoted as the standard uncertainty.\n",
    "\n",
    "In order to compare results we need to quantify our uncertainty."
   ]
  },
  {
   "cell_type": "markdown",
   "metadata": {},
   "source": [
    "The standard deviation ($\\sigma$) of a Gaussian pdf ... area under pdf ... % possible outcomes ... confidence interval (page 48)"
   ]
  },
  {
   "cell_type": "markdown",
   "metadata": {},
   "source": [
    "We are not interested in the variance of possible data values so much as the **variance of possible mean values**. Thus we do not use the standard deviation of the data as a measure of uncertainty, but the standard deviation of the mean. This is related to the standard deviation of the data by:\n",
    "\n",
    "$$\n",
    "s(\\bar{x}) = \\frac{s(x)}{\\sqrt{N}}\n",
    "$$"
   ]
  },
  {
   "cell_type": "markdown",
   "metadata": {
    "tags": [
     "remove_cell"
    ]
   },
   "source": [
    "Bib info  \n",
    "phy-gum  \n",
    "Introduction to Measurement in the Physics Laboratory. A probabilistic approach.\n",
    "\n",
    "Andy Buffler and Saalih Allie  \n",
    "Department of Physics, University of Cape Town, South Africa\n",
    "\n",
    "Fred Lubben and Bob Campbell\n",
    "Science Education Group, Department of Educational Studies, University of York, UK\n",
    "\n",
    "<http://www.phy.uct.ac.za/phy/people/academic/buffler/downloads/labmanual>"
   ]
  }
 ],
 "metadata": {
  "kernelspec": {
   "display_name": "Python 3",
   "language": "python",
   "name": "python3"
  },
  "language_info": {
   "codemirror_mode": {
    "name": "ipython",
    "version": 3
   },
   "file_extension": ".py",
   "mimetype": "text/x-python",
   "name": "python",
   "nbconvert_exporter": "python",
   "pygments_lexer": "ipython3",
   "version": "3.7.3"
  }
 },
 "nbformat": 4,
 "nbformat_minor": 4
}
