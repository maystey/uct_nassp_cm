{
 "cells": [
  {
   "cell_type": "markdown",
   "metadata": {},
   "source": [
    "# File I/O"
   ]
  },
  {
   "cell_type": "markdown",
   "metadata": {},
   "source": [
    "## `open()` Function"
   ]
  },
  {
   "cell_type": "markdown",
   "metadata": {},
   "source": [
    "The `open()` function is the Standard Library option for reading and writing both text and binary files. It returns a file object, the exact type depending on the type of file you read.\n",
    "\n",
    "The file object has methods for reading from and writing to the file.\n",
    "\n",
    "- The file object is iterable\n",
    "- Signature\n",
    "    ```python\n",
    "    open(filename, mode = 'r')\n",
    "    ```   "
   ]
  },
  {
   "cell_type": "markdown",
   "metadata": {},
   "source": [
    "### File Modes"
   ]
  },
  {
   "cell_type": "markdown",
   "metadata": {},
   "source": [
    "The different modes for `open()` are (taken from the docstring):\n",
    "\n",
    "| Character | Meaning |\n",
    "| :--- | :--- |\n",
    "|'r' | open for reading (**default**) |  \n",
    "|'w' | open for writing, truncating the file first |   \n",
    "|'x' | create a new file and open it for writing |  \n",
    "|'a' | open for writing, appending to the end of the file if it exists |  \n",
    "|'b' | binary mode |  \n",
    "|'t' | text mode (**default**) |  \n",
    "|'+' | open a disk file for updating (reading and writing) |  \n",
    "|'U' | universal newline mode (deprecated) |  \n",
    "\n",
    "Modes can be combined. For example, the default mode is `'rt'`, or \"read text-file\". If you wanted to open a binary file in write mode, you could use `'wb'`. See the docstring for more of an explanation."
   ]
  },
  {
   "cell_type": "markdown",
   "metadata": {},
   "source": [
    "## Open Files in a `with` Statement"
   ]
  },
  {
   "cell_type": "markdown",
   "metadata": {},
   "source": [
    "A good practice when opening files with `open()` is to use a with statement:\n",
    "\n",
    "```python\n",
    "with open('new_file.txt', 'w') as f:\n",
    "    #file object can be used here\n",
    "#file object is closed\n",
    "```\n",
    "\n",
    "Here the variable `f` refers to the file object that `open()` returns. When control leaves the `with` statement, the file is closed (see the section at the bottom of this page on how to do this manually). Outside the `with` the file object will still exist, but you won't be able to read from or write to it."
   ]
  },
  {
   "cell_type": "markdown",
   "metadata": {},
   "source": [
    "## Writing to Files"
   ]
  },
  {
   "cell_type": "markdown",
   "metadata": {},
   "source": [
    "You can write to files using the `'w'` mode in `open()`. This creates a new file if the file specified doesn't already exist, or **over-writes** the file if it already does (replacing the content). To write to the file use the `.write()` method on the file object:"
   ]
  },
  {
   "cell_type": "code",
   "execution_count": 1,
   "metadata": {},
   "outputs": [],
   "source": [
    "with open('new_file.txt', 'w') as f:\n",
    "    f.write('A line of text in the file.')"
   ]
  },
  {
   "cell_type": "markdown",
   "metadata": {},
   "source": [
    "In the example above we have written to a file called `'new_file.txt'`. This file will be located in the same directory as your script/notebook. The contents of the file is a single line:\n",
    "    \n",
    "    A line of text in the file"
   ]
  },
  {
   "cell_type": "markdown",
   "metadata": {},
   "source": [
    "The `.rite()` method writes strings to the file. Unlike `print`, `write` **only** takes strings. Also, if you want to write to a new line you need to use the new line special character `'\\n'`:"
   ]
  },
  {
   "cell_type": "code",
   "execution_count": 2,
   "metadata": {},
   "outputs": [],
   "source": [
    "with open('new_file.txt', 'w') as f:\n",
    "    f.write('First line of the file.\\n')\n",
    "    f.write('Second line of the file. ')\n",
    "    f.write('This is still the second line of the file.')"
   ]
  },
  {
   "cell_type": "markdown",
   "metadata": {},
   "source": [
    "The contents of **new_file.txt** now reads as follows:\n",
    "\n",
    "    First line of the file.\n",
    "    Second line of the file. This is still the second line of the file."
   ]
  },
  {
   "cell_type": "markdown",
   "metadata": {},
   "source": [
    "Alternatively you could write the contents as a multi-lined string literal:"
   ]
  },
  {
   "cell_type": "code",
   "execution_count": 3,
   "metadata": {},
   "outputs": [],
   "source": [
    "with open('new_file.txt', 'w') as f:\n",
    "    f.write('''First line.\n",
    "Second line.\n",
    "Third line.''')"
   ]
  },
  {
   "cell_type": "markdown",
   "metadata": {},
   "source": [
    "As you can see the string literal above does not have indentations. This is because those indentations would be a part of the string literal itself. Multi-lined string literals can, thus make it difficult to read indented code blocks. The contents of **new_file.txt** now reads:\n",
    "\n",
    "    First line.\n",
    "    Second line.\n",
    "    Third line."
   ]
  },
  {
   "cell_type": "markdown",
   "metadata": {},
   "source": [
    "## Reading Files"
   ]
  },
  {
   "cell_type": "markdown",
   "metadata": {},
   "source": [
    "You can read a function using the `'r'` mode of `open()`. The file object returned has a few options for reading the content."
   ]
  },
  {
   "cell_type": "markdown",
   "metadata": {},
   "source": [
    "### The `.read()` Method"
   ]
  },
  {
   "cell_type": "markdown",
   "metadata": {},
   "source": [
    "If you want to read the entire contents of the file into a single string, you can use the `.read()` method of the file object:"
   ]
  },
  {
   "cell_type": "code",
   "execution_count": 4,
   "metadata": {},
   "outputs": [
    {
     "name": "stdout",
     "output_type": "stream",
     "text": [
      "First line.\n",
      "Second line.\n",
      "Third line.\n"
     ]
    }
   ],
   "source": [
    "with open('new_file.txt', 'r') as f:\n",
    "    data = f.read()\n",
    "\n",
    "print(data)"
   ]
  },
  {
   "cell_type": "markdown",
   "metadata": {},
   "source": [
    "Note that the file object keeps track of where you have read to in the file. When you have reached the end of the file (as is the case after using `.read()`) you cannot read more content."
   ]
  },
  {
   "cell_type": "code",
   "execution_count": 5,
   "metadata": {},
   "outputs": [
    {
     "name": "stdout",
     "output_type": "stream",
     "text": [
      "First reading:\n",
      "First line.\n",
      "Second line.\n",
      "Third line.\n",
      "\n",
      "Second reading\n",
      "\n"
     ]
    }
   ],
   "source": [
    "with open('new_file.txt', 'r') as f:\n",
    "    data1 = f.read()\n",
    "    data2 = f.read() #A second reading\n",
    "\n",
    "print('First reading:')\n",
    "print(data1)\n",
    "print('')\n",
    "print('Second reading')\n",
    "print(data2)"
   ]
  },
  {
   "cell_type": "markdown",
   "metadata": {},
   "source": [
    "### The `.readline()` Method"
   ]
  },
  {
   "cell_type": "markdown",
   "metadata": {},
   "source": [
    "If you want to read the next line of the file object, you can use the `.readline()` method:"
   ]
  },
  {
   "cell_type": "code",
   "execution_count": 10,
   "metadata": {},
   "outputs": [
    {
     "name": "stdout",
     "output_type": "stream",
     "text": [
      "1 First line.\n",
      "\n",
      "2 Second line.\n",
      "\n"
     ]
    }
   ],
   "source": [
    "with open('new_file.txt', 'r') as f:\n",
    "    print('1', f.readline())\n",
    "    print('2', f.readline())"
   ]
  },
  {
   "cell_type": "markdown",
   "metadata": {},
   "source": [
    "### The `.readlines()` Method"
   ]
  },
  {
   "cell_type": "markdown",
   "metadata": {},
   "source": [
    "If you want to create a list of the lines in the file, you can use the `.readlines()` method:"
   ]
  },
  {
   "cell_type": "code",
   "execution_count": 11,
   "metadata": {},
   "outputs": [
    {
     "name": "stdout",
     "output_type": "stream",
     "text": [
      "['First line.\\n', 'Second line.\\n', 'Third line.']\n"
     ]
    }
   ],
   "source": [
    "with open('new_file.txt', 'r') as f:\n",
    "    lines = f.readlines()\n",
    "\n",
    "print(lines)"
   ]
  },
  {
   "cell_type": "markdown",
   "metadata": {},
   "source": [
    "### Iterating Through File Objects"
   ]
  },
  {
   "cell_type": "markdown",
   "metadata": {},
   "source": [
    "The file object returned by `open()` is iterable. Each iteration call returns a line of the file. We can use this in a `for` loop:"
   ]
  },
  {
   "cell_type": "code",
   "execution_count": 6,
   "metadata": {},
   "outputs": [
    {
     "name": "stdout",
     "output_type": "stream",
     "text": [
      "First line.\n",
      "\n",
      "Second line.\n",
      "\n",
      "Third line.\n"
     ]
    }
   ],
   "source": [
    "with open('new_file.txt', 'r') as f:\n",
    "    for line in f:\n",
    "        print(line)"
   ]
  },
  {
   "cell_type": "markdown",
   "metadata": {},
   "source": [
    "Let's print the corresponding line numbers of each line to further illustrate what is happening:"
   ]
  },
  {
   "cell_type": "code",
   "execution_count": 8,
   "metadata": {},
   "outputs": [
    {
     "name": "stdout",
     "output_type": "stream",
     "text": [
      "1 First line.\n",
      "\n",
      "2 Second line.\n",
      "\n",
      "3 Third line.\n"
     ]
    }
   ],
   "source": [
    "with open('new_file.txt', 'r') as f:\n",
    "    for i,line in enumerate(f):\n",
    "        print(i+1, line)"
   ]
  },
  {
   "cell_type": "markdown",
   "metadata": {},
   "source": [
    "## Opening Files Without `with`"
   ]
  },
  {
   "cell_type": "markdown",
   "metadata": {},
   "source": [
    "If, for some reason, you don't want to make use of the `with` statement when opening your files, make sure to close your file objects when you are done with them:\n",
    "\n",
    "```python\n",
    "f = open('new_file.txt', 'w')\n",
    "\n",
    "#file object used\n",
    "\n",
    "f.close()\n",
    "```"
   ]
  },
  {
   "cell_type": "code",
   "execution_count": null,
   "metadata": {},
   "outputs": [],
   "source": []
  }
 ],
 "metadata": {
  "kernelspec": {
   "display_name": "Python 3.7.3 64-bit ('base': conda)",
   "language": "python",
   "name": "python37364bitbaseconda97808f46a65a4f1e9dfdbcff18a07fbf"
  },
  "language_info": {
   "codemirror_mode": {
    "name": "ipython",
    "version": 3
   },
   "file_extension": ".py",
   "mimetype": "text/x-python",
   "name": "python",
   "nbconvert_exporter": "python",
   "pygments_lexer": "ipython3",
   "version": "3.7.3"
  }
 },
 "nbformat": 4,
 "nbformat_minor": 4
}
