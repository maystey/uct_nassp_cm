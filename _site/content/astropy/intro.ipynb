{
 "cells": [
  {
   "cell_type": "markdown",
   "metadata": {},
   "source": [
    "# Astropy"
   ]
  },
  {
   "cell_type": "markdown",
   "metadata": {},
   "source": [
    "In this final chapter we introduce the Astropy package. In this module we only provide a bried introduction, but you will be making more use of the package later in the AST4007W course.\n",
    "\n",
    "Astropy is an open-source and community-developed Python package. It contains core astronomy-related functionality. It was started in 2011 to bring together developers across the field of astronomy in order to coordinate the development of a common set of Python tools for astronomers.\n",
    "\n",
    "The website can be found at <https://www.astropy.org/>, which also contains links to examples, tutorials and the documentation."
   ]
  },
  {
   "cell_type": "markdown",
   "metadata": {},
   "source": [
    "## Supported File Formats"
   ]
  },
  {
   "cell_type": "markdown",
   "metadata": {},
   "source": [
    "Astropy provides support for domain-specific file formats such as:\n",
    "\n",
    "- Flexible Image Transport System (FITS) files\n",
    "- Virtual Observatory (VO) tables\n",
    "- common ASCII table formats,\n",
    "- unit and physical quantity conversions\n",
    "- physical constants specific to astronomy\n",
    "- celestial coordinate and time transformations,\n",
    "- world coordinate system (WCS) support\n",
    "- e.t.c\n",
    "\n",
    "We cover working with the FITS files in the final tutorial."
   ]
  }
 ],
 "metadata": {
  "kernelspec": {
   "display_name": "Python 3.7.3 64-bit ('base': conda)",
   "language": "python",
   "name": "python37364bitbaseconda97808f46a65a4f1e9dfdbcff18a07fbf"
  },
  "language_info": {
   "codemirror_mode": {
    "name": "ipython",
    "version": 3
   },
   "file_extension": ".py",
   "mimetype": "text/x-python",
   "name": "python",
   "nbconvert_exporter": "python",
   "pygments_lexer": "ipython3",
   "version": "3.7.3"
  }
 },
 "nbformat": 4,
 "nbformat_minor": 4
}
